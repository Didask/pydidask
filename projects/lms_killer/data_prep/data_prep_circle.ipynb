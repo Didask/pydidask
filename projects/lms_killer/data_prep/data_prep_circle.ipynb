{
 "cells": [
  {
   "cell_type": "code",
   "execution_count": 31,
   "metadata": {},
   "outputs": [],
   "source": [
    "import sys\n",
    "sys.path.append('../../..')\n",
    "from dev.utils import load_config\n",
    "from projects.circle_to_intercom_migration.api import CircleAPI\n",
    "import pandas as pd\n",
    "from sqlalchemy import create_engine\n",
    "from html_to_text import convert_html_to_text"
   ]
  },
  {
   "cell_type": "code",
   "execution_count": 32,
   "metadata": {},
   "outputs": [],
   "source": [
    "import snowflake.connector\n",
    "from snowflake.connector.pandas_tools import write_pandas\n",
    "\n",
    "class Snowflake:\n",
    "    SNOWFLAKE_CONFIG = load_config()[\"snowflake\"]\n",
    "\n",
    "    def __init__(self, database: str):\n",
    "        self.connector = snowflake.connector.connect(\n",
    "            database = database,\n",
    "            user = self.SNOWFLAKE_CONFIG['username'],\n",
    "            password = self.SNOWFLAKE_CONFIG['password'],\n",
    "            account = self.SNOWFLAKE_CONFIG['account'],\n",
    "            warehouse = self.SNOWFLAKE_CONFIG[\"warehouse\"],\n",
    "            role = self.SNOWFLAKE_CONFIG[\"role\"]\n",
    "        )\n",
    "        self.database = database\n",
    "    \n",
    "    def __del__(self):\n",
    "        self.close_connection()\n",
    "    \n",
    "    def close_connection(self):\n",
    "        self.connector.close()\n",
    "\n",
    "    def create_schema(self, schema_name: str, verbose: bool = False):\n",
    "        try:            \n",
    "            # Create the CIRCLE_CUSTOM schema\n",
    "            self.connector.cursor().execute(f'CREATE SCHEMA IF NOT EXISTS {schema_name}')\n",
    "            if verbose: print(f\"Schema '{schema_name}' created successfully.\")\n",
    "        except Exception as e:\n",
    "            print(f\"An error occurred: {e}\")\n",
    "\n",
    "    def drop_schema(self, schema_name: str, verbose: bool = False, are_you_sure: bool=False):\n",
    "        try:            \n",
    "            # Create the CIRCLE_CUSTOM schema\n",
    "            self.connector.cursor().execute(f'DROP SCHEMA IF EXISTS {schema_name} CASCADE')\n",
    "            if verbose: print(f\"Schema '{schema_name}' has been dropped successfully.\")\n",
    "        except Exception as e:\n",
    "            print(f\"An error occurred: {e}\")\n",
    "\n",
    "    def create_table(self, schema_name: str, table_name: str, columns: list[dict], verbose: bool = False):\n",
    "        \"\"\"\n",
    "        columns : [{'name': 'A', 'type': 'varchar'}]\n",
    "        \"\"\"\n",
    "        try:\n",
    "            self.connector.cursor().execute(f'use schema {schema_name}')\n",
    "            \n",
    "            # Create the CUSTOM_TABLE table\n",
    "            create_table_query = f\"create table if not exists {table_name} (\\n\\t\"\n",
    "            create_table_query += ',\\n\\t'.join([f\"{c['name']} {c['type']}\" for c in columns])\n",
    "            create_table_query += '\\n)'\n",
    "        \n",
    "            self.connector.cursor().execute(create_table_query)\n",
    "            if verbose: print(f\"Table '{table_name}' created successfully in schema '{schema_name}'.\")\n",
    "        except Exception as e:\n",
    "            print(f\"An error occurred: {e}\")\n",
    "        \n",
    "    def load_table(self, df: pd.DataFrame, table_name: str, schema_name: str, verbose: bool = False):\n",
    "        self.connector.cursor().execute(f'USE SCHEMA {schema_name}')\n",
    "        success, nchunks, nrows, _ = write_pandas(self.connector, df, table_name)\n",
    "        if verbose: print(f\"DataFrame successfully loaded into '{table_name}'. Rows inserted: {nrows}\")   \n",
    "\n",
    "    def drop_table(self, are_you_sure: bool=False):\n",
    "        print('not implemented.')"
   ]
  },
  {
   "cell_type": "markdown",
   "metadata": {},
   "source": [
    "## load Circle articles"
   ]
  },
  {
   "cell_type": "code",
   "execution_count": 33,
   "metadata": {},
   "outputs": [],
   "source": [
    "posts = CircleAPI.api_get_posts(render=False)"
   ]
  },
  {
   "cell_type": "markdown",
   "metadata": {},
   "source": [
    "## format data"
   ]
  },
  {
   "cell_type": "code",
   "execution_count": 39,
   "metadata": {},
   "outputs": [],
   "source": [
    "data_dict = [{\n",
    "    'title': p['name'],\n",
    "    'url': p['url'],\n",
    "    'body_html': p['body']['body'],\n",
    "    'slug': p['slug'],\n",
    "    'folder_name': p['space_name'],\n",
    "    'folder_slug': p['space_slug'],\n",
    "    'created_at': p['created_at']\n",
    "} for p in posts]\n",
    "\n",
    "df = pd.DataFrame(data_dict)\n",
    "\n",
    "## strop all columns\n",
    "for c in df.columns: df[c] = df[c].str.strip()\n",
    "# add column with text in markdown\n",
    "df['body_markdown'] = df['body_html'].apply(lambda x: convert_html_to_text(x))\n",
    "## reorg columns\n",
    "df = df[['title', 'url','slug','body_html', 'body_markdown', 'folder_name', 'folder_slug', 'created_at']]\n",
    "## upper the column name\n",
    "df.columns = [c.upper() for c in df.columns]"
   ]
  },
  {
   "cell_type": "markdown",
   "metadata": {},
   "source": [
    "## create Snowflake table and dump the table"
   ]
  },
  {
   "cell_type": "code",
   "execution_count": 40,
   "metadata": {},
   "outputs": [],
   "source": [
    "database = \"RAW\"\n",
    "schema_name = 'CIRCLE_CUSTOM'\n",
    "table_name = \"ARTICLES\"\n",
    "columns = [{\"name\":c.upper(), \"type\": \"varchar\"} for c in df.columns]\n",
    "\n",
    "snow = Snowflake(database)\n",
    "\n",
    "## create schema\n",
    "snow.create_schema(schema_name)"
   ]
  },
  {
   "cell_type": "code",
   "execution_count": 41,
   "metadata": {},
   "outputs": [],
   "source": [
    "## create table\n",
    "snow.create_table(schema_name=schema_name, table_name=table_name, columns=columns)"
   ]
  },
  {
   "cell_type": "code",
   "execution_count": 42,
   "metadata": {},
   "outputs": [],
   "source": [
    "## dump dataframe\n",
    "\n",
    "snow.load_table(df=df, table_name=table_name, schema_name=schema_name)"
   ]
  },
  {
   "cell_type": "code",
   "execution_count": 29,
   "metadata": {},
   "outputs": [],
   "source": [
    "df.to_csv('~/Desktop/2024-02-20-circle-articles.csv')"
   ]
  },
  {
   "cell_type": "code",
   "execution_count": null,
   "metadata": {},
   "outputs": [],
   "source": []
  }
 ],
 "metadata": {
  "kernelspec": {
   "display_name": "pydidask",
   "language": "python",
   "name": "python3"
  },
  "language_info": {
   "codemirror_mode": {
    "name": "ipython",
    "version": 3
   },
   "file_extension": ".py",
   "mimetype": "text/x-python",
   "name": "python",
   "nbconvert_exporter": "python",
   "pygments_lexer": "ipython3",
   "version": "3.12.0"
  }
 },
 "nbformat": 4,
 "nbformat_minor": 2
}
