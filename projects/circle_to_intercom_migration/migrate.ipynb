{
 "cells": [
  {
   "cell_type": "code",
   "execution_count": 1,
   "metadata": {},
   "outputs": [],
   "source": [
    "from api_circle import CircleAPI\n",
    "from api_circle import render_json\n",
    "from api_intercom import IntercomAPI\n",
    "from migrate_circle_posts_to_intercom import MigrateCirclePostsToIntercom\n",
    "import html\n",
    "import pandas as pd"
   ]
  },
  {
   "cell_type": "markdown",
   "metadata": {},
   "source": [
    "## Next"
   ]
  },
  {
   "cell_type": "code",
   "execution_count": null,
   "metadata": {},
   "outputs": [],
   "source": [
    "migration = MigrateCirclePostsToIntercom()"
   ]
  },
  {
   "cell_type": "code",
   "execution_count": null,
   "metadata": {},
   "outputs": [],
   "source": [
    "out = migration.migrate_all_articles(display_progress=True)"
   ]
  },
  {
   "cell_type": "code",
   "execution_count": null,
   "metadata": {},
   "outputs": [],
   "source": [
    "circle_posts = CircleAPI.api_get_posts(render=False)\n",
    "print(len(circle_posts))"
   ]
  },
  {
   "cell_type": "code",
   "execution_count": null,
   "metadata": {},
   "outputs": [],
   "source": [
    "[p for p in circle_posts if 'Intégrer' in p['name']][0]['body']['body']"
   ]
  },
  {
   "cell_type": "code",
   "execution_count": null,
   "metadata": {},
   "outputs": [],
   "source": [
    "[o for o in out if isinstance(o, dict) and 'loom' in o['body'].lower()][2]"
   ]
  },
  {
   "cell_type": "code",
   "execution_count": null,
   "metadata": {},
   "outputs": [],
   "source": [
    "out"
   ]
  },
  {
   "cell_type": "code",
   "execution_count": null,
   "metadata": {},
   "outputs": [],
   "source": [
    "# Comment créer et paramétrer un projet ?\n",
    "# "
   ]
  },
  {
   "cell_type": "code",
   "execution_count": null,
   "metadata": {},
   "outputs": [],
   "source": [
    "render_json([p for p in circle_posts if p['name'] == \"Comment créer et paramétrer un projet ?\"])"
   ]
  },
  {
   "cell_type": "code",
   "execution_count": null,
   "metadata": {},
   "outputs": [],
   "source": [
    "circle_posts[1][\"body\"][\"body\"]"
   ]
  },
  {
   "cell_type": "code",
   "execution_count": null,
   "metadata": {},
   "outputs": [],
   "source": [
    "render_json(circle_posts[0])"
   ]
  },
  {
   "cell_type": "code",
   "execution_count": null,
   "metadata": {},
   "outputs": [],
   "source": [
    "[p['name'] for p in circle_posts if 'Animation' in p['space_name']]"
   ]
  },
  {
   "cell_type": "code",
   "execution_count": null,
   "metadata": {},
   "outputs": [],
   "source": [
    "res = migration.migrate_all_articles(display_progress=True)"
   ]
  },
  {
   "cell_type": "code",
   "execution_count": null,
   "metadata": {},
   "outputs": [],
   "source": [
    "render_json(res)"
   ]
  },
  {
   "cell_type": "code",
   "execution_count": null,
   "metadata": {},
   "outputs": [],
   "source": [
    "res[-1][\"body\"]"
   ]
  },
  {
   "cell_type": "code",
   "execution_count": null,
   "metadata": {},
   "outputs": [],
   "source": [
    "_ = IntercomAPI.api_get_collections()"
   ]
  },
  {
   "cell_type": "code",
   "execution_count": null,
   "metadata": {},
   "outputs": [],
   "source": [
    "_ = IntercomAPI.api_get_help_centers()"
   ]
  },
  {
   "cell_type": "code",
   "execution_count": null,
   "metadata": {},
   "outputs": [],
   "source": [
    "_ = IntercomAPI.api_get_teams()"
   ]
  },
  {
   "cell_type": "code",
   "execution_count": null,
   "metadata": {},
   "outputs": [],
   "source": [
    "_ = IntercomAPI.api_get_articles()"
   ]
  },
  {
   "cell_type": "code",
   "execution_count": null,
   "metadata": {},
   "outputs": [],
   "source": [
    "#IntercomAPI.api_create_article(title='BOBOBO', author_id=\"6624076\", body=\"\")"
   ]
  },
  {
   "cell_type": "code",
   "execution_count": null,
   "metadata": {},
   "outputs": [],
   "source": [
    "from migrate_circle_posts_to_intercom import MigrateCirclePostsToIntercom\n",
    "migration = MigrateCirclePostsToIntercom()"
   ]
  },
  {
   "cell_type": "code",
   "execution_count": null,
   "metadata": {},
   "outputs": [],
   "source": [
    "#migration.delete_all_intercom_collections(are_you_sure=False)"
   ]
  },
  {
   "cell_type": "code",
   "execution_count": null,
   "metadata": {},
   "outputs": [],
   "source": [
    "migration.migrate_all_collections()"
   ]
  },
  {
   "cell_type": "markdown",
   "metadata": {},
   "source": [
    "## Circle (misc)"
   ]
  },
  {
   "cell_type": "code",
   "execution_count": null,
   "metadata": {},
   "outputs": [],
   "source": [
    "#me = CircleAPI.api_get_me()"
   ]
  },
  {
   "cell_type": "code",
   "execution_count": null,
   "metadata": {},
   "outputs": [],
   "source": [
    "#communities = CircleAPI.api_get_communities()\n",
    "#print(f\"nb communities: {len(communities)}\")"
   ]
  },
  {
   "cell_type": "markdown",
   "metadata": {},
   "source": [
    "## delete intercom collections"
   ]
  },
  {
   "cell_type": "code",
   "execution_count": null,
   "metadata": {},
   "outputs": [],
   "source": [
    "# collections_id = [e['id'] for e in IntercomAPI.api_get_collections(render=False)['data'] if e['parent_id'] is None]\n",
    "# for coll_id in collections_id:\n",
    "#    IntercomAPI.api_delete_collection(coll_id=coll_id, render=False)"
   ]
  },
  {
   "cell_type": "markdown",
   "metadata": {},
   "source": [
    "## Circle"
   ]
  },
  {
   "cell_type": "code",
   "execution_count": null,
   "metadata": {},
   "outputs": [],
   "source": [
    "render=False\n",
    "space_groups = CircleAPI.api_get_space_groups(render=render)\n",
    "spaces = CircleAPI.api_get_spaces(render=render)\n",
    "print(f\"nb space groups: {len(space_groups)}\")\n",
    "print(f\"nb spaces: {len(spaces)}\")"
   ]
  },
  {
   "cell_type": "code",
   "execution_count": null,
   "metadata": {},
   "outputs": [],
   "source": [
    "df_collections_lookup = pd.DataFrame(\n",
    "    {'name': [s['name'] for s in space_groups] + [s['name'] for s in spaces],\n",
    "     'parent_name': [None]*len(space_groups) + [s['space_group_name'] for s in spaces],\n",
    "     'circle_id': [s['id'] for s in space_groups] + [str(s['id']) for s in spaces],\n",
    "     'circle_parent_id': [None]*len(space_groups) + [str(s['space_group_id']) for s in spaces],\n",
    "     'intercom_id': None,\n",
    "     'intercom_parent_id': None}).sort_values('parent_name', ascending=True, na_position='first').set_index('name')"
   ]
  },
  {
   "cell_type": "code",
   "execution_count": null,
   "metadata": {},
   "outputs": [],
   "source": [
    "## METHOD 1: import everything, whatever already exists in Intercom\n",
    "root_collections = df_collections_lookup.index[df_collections_lookup['parent_name'].apply(lambda x: x is None)]\n",
    "intercom_collections_created = [IntercomAPI.api_create_collection(n, render=False) for n in root_collections]\n",
    "\n",
    "## add intercom IDs to lookup table\n",
    "idx = [html.unescape(e['name']) for e in intercom_collections_created]\n",
    "intercom_id = [e['id'] for e in intercom_collections_created]\n",
    "df_collections_lookup.loc[idx, 'intercom_id'] = intercom_id\n",
    "## add parent ID for intercom sub collections\n",
    "for i in range(len(df_collections_lookup)):\n",
    "    coll_name = df_collections_lookup.index[i]\n",
    "    parent_name = df_collections_lookup.iloc[i]['parent_name']\n",
    "    if parent_name is not None:\n",
    "        df_collections_lookup.loc[coll_name,'intercom_parent_id'] = df_collections_lookup.loc[parent_name,'intercom_id']"
   ]
  },
  {
   "cell_type": "code",
   "execution_count": null,
   "metadata": {},
   "outputs": [],
   "source": [
    "## create sub collections\n",
    "sub_collections_name = df_collections_lookup.index[df_collections_lookup['parent_name'].apply(lambda x: x is not None)]\n",
    "sub_collections_parent_id = df_collections_lookup.loc[sub_collections_name, 'intercom_parent_id']\n",
    "intercom_sub_collections_created = [IntercomAPI.api_create_collection(name=n, parent_id=i, render=False) for (n,i) in sub_collections_parent_id.items()]\n",
    "\n",
    "## add intercom ID\n",
    "for e in intercom_sub_collections_created:\n",
    "    df_collections_lookup.loc[html.unescape(e['name']), 'intercom_id'] = e['id']"
   ]
  },
  {
   "cell_type": "code",
   "execution_count": null,
   "metadata": {},
   "outputs": [],
   "source": [
    "df_collections_lookup"
   ]
  },
  {
   "cell_type": "markdown",
   "metadata": {},
   "source": [
    "## migrate posts"
   ]
  },
  {
   "cell_type": "code",
   "execution_count": null,
   "metadata": {},
   "outputs": [],
   "source": [
    "intercom_admins = IntercomAPI.api_get_admins()"
   ]
  },
  {
   "cell_type": "code",
   "execution_count": null,
   "metadata": {},
   "outputs": [],
   "source": [
    "circle_members = CircleAPI.api_get_members()"
   ]
  },
  {
   "cell_type": "code",
   "execution_count": null,
   "metadata": {},
   "outputs": [],
   "source": [
    "[m for m in circle_members if 'Camila' in m['name']]"
   ]
  },
  {
   "cell_type": "code",
   "execution_count": null,
   "metadata": {},
   "outputs": [],
   "source": [
    "circle_posts = CircleAPI.api_get_posts(render=False)"
   ]
  },
  {
   "cell_type": "code",
   "execution_count": null,
   "metadata": {},
   "outputs": [],
   "source": [
    "circle_authors = pd.Series([p['user_name'] for p in circle_posts]).unique()\n",
    "circle_authors"
   ]
  },
  {
   "cell_type": "code",
   "execution_count": null,
   "metadata": {},
   "outputs": [],
   "source": [
    "intercom_admins"
   ]
  },
  {
   "cell_type": "code",
   "execution_count": null,
   "metadata": {},
   "outputs": [],
   "source": []
  },
  {
   "cell_type": "code",
   "execution_count": null,
   "metadata": {},
   "outputs": [],
   "source": [
    "# ## METHOD 2: Do not add collections already created\n",
    "# root_collections = df_collections_lookup.index[df_collections_lookup['parent_name'].apply(lambda x: x is None)]\n",
    "# ## get ID of collections already created in Intercom\n",
    "# existing_intercom_collections = IntercomAPI.api_get_collections(render=False)['data']\n",
    "# existing_intercom_collections_name = [e['name'] for e in existing_intercom_collections if e['name'] in df_collections_lookup.index]\n",
    "# existing_intercom_collections_id = [e['id'] for e in existing_intercom_collections if e['name'] in df_collections_lookup.index]\n",
    "# if len(existing_intercom_collections_name) > 0:\n",
    "#     df_collections_lookup.loc[existing_intercom_collections_name, 'intercom_id'] = existing_intercom_collections_id\n",
    "\n",
    "# ## create new Intercom root collections\n",
    "# intercom_root_collections_to_create = [df_collections_lookup.index[i] for i in range(len(df_collections_lookup)) if (df_collections_lookup.iloc[i]['intercom_id'] is None) and (df_collections_lookup.index[i] in root_collections)]\n",
    "# intercom_collections_created = [IntercomAPI.api_create_collection(n, render=False) for n in intercom_root_collections_to_create]\n",
    "\n",
    "# ## add Ids to lookup table\n",
    "# idx = [html.unescape(e['name']) for e in intercom_collections_created]\n",
    "# intercom_id = [e['id'] for e in intercom_collections_created]\n",
    "# df_collections_lookup.loc[idx, 'intercom_id'] = intercom_id\n",
    "\n",
    "# ## add parent ID for intercom sub collections\n",
    "# for i in range(len(df_collections_lookup)):\n",
    "#     coll_name = df_collections_lookup.index[i]\n",
    "#     parent_name = df_collections_lookup.iloc[i]['parent_name']\n",
    "#     if parent_name is not None:\n",
    "#         df_collections_lookup.loc[coll_name,'intercom_parent_id'] = df_collections_lookup.loc[parent_name,'intercom_id']"
   ]
  },
  {
   "cell_type": "markdown",
   "metadata": {},
   "source": [
    "## Posts"
   ]
  },
  {
   "cell_type": "code",
   "execution_count": null,
   "metadata": {},
   "outputs": [],
   "source": [
    "from migrate_circle_posts_to_intercom import MigrateCirclePostsToIntercom\n",
    "migration = MigrateCirclePostsToIntercom()"
   ]
  },
  {
   "cell_type": "code",
   "execution_count": null,
   "metadata": {},
   "outputs": [],
   "source": [
    "intercom_admins = IntercomAPI.api_get_admins(render=False)[\"admins\"]\n",
    "intercom_admins_id_lookup = {admin['name']:admin['id'] for admin in intercom_admins}"
   ]
  },
  {
   "cell_type": "code",
   "execution_count": null,
   "metadata": {},
   "outputs": [],
   "source": [
    "intercom_admins_id_lookup"
   ]
  },
  {
   "cell_type": "code",
   "execution_count": null,
   "metadata": {},
   "outputs": [],
   "source": [
    "posts = CircleAPI.api_get_posts(render=False)\n",
    "print(f\"nb posts: {len(posts)}\")"
   ]
  },
  {
   "cell_type": "code",
   "execution_count": null,
   "metadata": {},
   "outputs": [],
   "source": [
    "pd.Series([p['body']['record_type'] for p in posts]).value_counts()"
   ]
  },
  {
   "cell_type": "code",
   "execution_count": null,
   "metadata": {},
   "outputs": [],
   "source": [
    "DEFAULT_INTERCOM_AUTHOR = 'Support technique'\n",
    "p = posts[0]\n",
    "r = IntercomAPI.api_create_article(\n",
    "    title = p['name'],\n",
    "    body= p['body']['body'],\n",
    "    author_id= intercom_admins_id_lookup.get(p['user_name'], intercom_admins_id_lookup[DEFAULT_INTERCOM_AUTHOR]),\n",
    "    state='published',\n",
    "    parent_id = migration.df_collections_lookup.loc[p['space_name'], 'intercom_id']\n",
    ")"
   ]
  },
  {
   "cell_type": "code",
   "execution_count": null,
   "metadata": {},
   "outputs": [],
   "source": [
    "intercom_admins_id_lookup.get('Camila Grossi', intercom_admins_id_lookup[DEFAULT_INTERCOM_AUTHOR])"
   ]
  },
  {
   "cell_type": "code",
   "execution_count": null,
   "metadata": {},
   "outputs": [],
   "source": [
    "render_json(posts[0])"
   ]
  },
  {
   "cell_type": "code",
   "execution_count": null,
   "metadata": {},
   "outputs": [],
   "source": [
    "intercom_admins_id_lookup"
   ]
  },
  {
   "cell_type": "code",
   "execution_count": null,
   "metadata": {},
   "outputs": [],
   "source": [
    "colls = IntercomAPI.api_get_collections(render=False)['data']\n",
    "colls_name = [c['name'] for c in colls if c['name'] in migration.df_collections_lookup.index]\n",
    "colls_idx = [c['id'] for c in colls if c['name'] in migration.df_collections_lookup.index]\n",
    "\n",
    "## set intercom id\n",
    "migration.df_collections_lookup.loc[colls_name, 'intercom_id'] = colls_idx\n",
    "\n",
    "## set intercom parent id\n",
    "for i in range(len(migration.df_collections_lookup)):\n",
    "    coll_name = migration.df_collections_lookup.index[i]\n",
    "    parent_name = migration.df_collections_lookup.iloc[i][\"parent_name\"]\n",
    "    if parent_name is not None:\n",
    "        migration.df_collections_lookup.loc[coll_name, \"intercom_parent_id\"] = (\n",
    "            migration.df_collections_lookup.loc[parent_name, \"intercom_id\"]\n",
    "        )"
   ]
  },
  {
   "cell_type": "code",
   "execution_count": null,
   "metadata": {},
   "outputs": [],
   "source": [
    "migration.df_collections_lookup"
   ]
  },
  {
   "cell_type": "code",
   "execution_count": null,
   "metadata": {},
   "outputs": [],
   "source": [
    "import random\n",
    "i = random.randint(0, len(posts))\n",
    "for k in posts[i].keys():\n",
    "    print(k)\n",
    "print(len(posts[i].keys()))"
   ]
  },
  {
   "cell_type": "code",
   "execution_count": null,
   "metadata": {},
   "outputs": [],
   "source": [
    "posts[0]"
   ]
  },
  {
   "cell_type": "markdown",
   "metadata": {},
   "source": [
    "## Intercom"
   ]
  },
  {
   "cell_type": "code",
   "execution_count": null,
   "metadata": {},
   "outputs": [],
   "source": [
    "intercom_collections = IntercomAPI.api_get_collections()"
   ]
  },
  {
   "cell_type": "code",
   "execution_count": null,
   "metadata": {},
   "outputs": [],
   "source": [
    "res = IntercomAPI.api_create_collection(name=\"new collection\")"
   ]
  },
  {
   "cell_type": "code",
   "execution_count": null,
   "metadata": {},
   "outputs": [],
   "source": [
    "res = IntercomAPI.api_create_collection(name=\"aa\", parent_id=\"8401934\")"
   ]
  },
  {
   "cell_type": "markdown",
   "metadata": {},
   "source": [
    "# Lookup table of articles - Circle vs Intercom"
   ]
  },
  {
   "cell_type": "code",
   "execution_count": null,
   "metadata": {},
   "outputs": [],
   "source": [
    "posts = CircleAPI.api_get_posts(render=False)\n",
    "print(len(posts))\n",
    "\n",
    "df_posts_circle = pd.DataFrame([{'circle_title': p['name'], 'circle_url': p['url']} for p in posts])"
   ]
  },
  {
   "cell_type": "code",
   "execution_count": null,
   "metadata": {},
   "outputs": [
    {
     "name": "stdout",
     "output_type": "stream",
     "text": [
      "5\n"
     ]
    }
   ],
   "source": [
    "articles = IntercomAPI.api_get_articles(render=False)\n",
    "print(len(articles['data']))"
   ]
  },
  {
   "cell_type": "code",
   "execution_count": null,
   "metadata": {},
   "outputs": [],
   "source": [
    "df_articles_intercom = pd.DataFrame([{'intercom_title': a['title'], 'intercom_id': a['id'], 'intercom_url': a['url']} for a in articles['data']])"
   ]
  },
  {
   "cell_type": "code",
   "execution_count": null,
   "metadata": {},
   "outputs": [],
   "source": [
    "df_articles = pd.merge(left = df_posts_circle, right = df_articles_intercom, left_on = 'circle_title', right_on='intercom_title', how = 'left')"
   ]
  },
  {
   "cell_type": "code",
   "execution_count": null,
   "metadata": {},
   "outputs": [
    {
     "name": "stdout",
     "output_type": "stream",
     "text": [
      "11\n"
     ]
    },
    {
     "data": {
      "text/html": [
       "<div>\n",
       "<style scoped>\n",
       "    .dataframe tbody tr th:only-of-type {\n",
       "        vertical-align: middle;\n",
       "    }\n",
       "\n",
       "    .dataframe tbody tr th {\n",
       "        vertical-align: top;\n",
       "    }\n",
       "\n",
       "    .dataframe thead th {\n",
       "        text-align: right;\n",
       "    }\n",
       "</style>\n",
       "<table border=\"1\" class=\"dataframe\">\n",
       "  <thead>\n",
       "    <tr style=\"text-align: right;\">\n",
       "      <th></th>\n",
       "      <th>circle_title</th>\n",
       "      <th>circle_url</th>\n",
       "      <th>intercom_title</th>\n",
       "      <th>intercom_id</th>\n",
       "      <th>intercom_url</th>\n",
       "    </tr>\n",
       "  </thead>\n",
       "  <tbody>\n",
       "    <tr>\n",
       "      <th>12</th>\n",
       "      <td>Comment créer et paramétrer un projet ?</td>\n",
       "      <td>https://academiedidask.circle.so/c/creation/cr...</td>\n",
       "      <td>NaN</td>\n",
       "      <td>NaN</td>\n",
       "      <td>NaN</td>\n",
       "    </tr>\n",
       "    <tr>\n",
       "      <th>21</th>\n",
       "      <td>📣 Nouveautés du 31 août 2023 : Les relances au...</td>\n",
       "      <td>https://academiedidask.circle.so/c/nouveautes-...</td>\n",
       "      <td>NaN</td>\n",
       "      <td>NaN</td>\n",
       "      <td>NaN</td>\n",
       "    </tr>\n",
       "    <tr>\n",
       "      <th>29</th>\n",
       "      <td>Comment verrouiller des modules pour les diffu...</td>\n",
       "      <td>https://academiedidask.circle.so/c/animation/v...</td>\n",
       "      <td>NaN</td>\n",
       "      <td>NaN</td>\n",
       "      <td>NaN</td>\n",
       "    </tr>\n",
       "    <tr>\n",
       "      <th>34</th>\n",
       "      <td>Exemples de questions pour faire évaluer votre...</td>\n",
       "      <td>https://academiedidask.circle.so/c/animation/e...</td>\n",
       "      <td>NaN</td>\n",
       "      <td>NaN</td>\n",
       "      <td>NaN</td>\n",
       "    </tr>\n",
       "    <tr>\n",
       "      <th>76</th>\n",
       "      <td>🔐 Documentation Technique Didask</td>\n",
       "      <td>https://academiedidask.circle.so/c/diffusion/d...</td>\n",
       "      <td>NaN</td>\n",
       "      <td>NaN</td>\n",
       "      <td>NaN</td>\n",
       "    </tr>\n",
       "    <tr>\n",
       "      <th>79</th>\n",
       "      <td>🧠 Ajouter des Flashcards de mémorisation</td>\n",
       "      <td>https://academiedidask.circle.so/c/creation/aj...</td>\n",
       "      <td>NaN</td>\n",
       "      <td>NaN</td>\n",
       "      <td>NaN</td>\n",
       "    </tr>\n",
       "    <tr>\n",
       "      <th>94</th>\n",
       "      <td>👁️ Choisir l’affichage de vos granules d’exer...</td>\n",
       "      <td>https://academiedidask.circle.so/c/creation/ch...</td>\n",
       "      <td>NaN</td>\n",
       "      <td>NaN</td>\n",
       "      <td>NaN</td>\n",
       "    </tr>\n",
       "    <tr>\n",
       "      <th>95</th>\n",
       "      <td>🎨 Les modes du Créateur Visuel</td>\n",
       "      <td>https://academiedidask.circle.so/c/creation/mo...</td>\n",
       "      <td>NaN</td>\n",
       "      <td>NaN</td>\n",
       "      <td>NaN</td>\n",
       "    </tr>\n",
       "    <tr>\n",
       "      <th>112</th>\n",
       "      <td>🤷‍♀️ Personne ne s'inscrit, que faire ?</td>\n",
       "      <td>https://academiedidask.circle.so/c/animation/p...</td>\n",
       "      <td>NaN</td>\n",
       "      <td>NaN</td>\n",
       "      <td>NaN</td>\n",
       "    </tr>\n",
       "    <tr>\n",
       "      <th>116</th>\n",
       "      <td>✏️ Ajouter une description de publication</td>\n",
       "      <td>https://academiedidask.circle.so/c/publication...</td>\n",
       "      <td>NaN</td>\n",
       "      <td>NaN</td>\n",
       "      <td>NaN</td>\n",
       "    </tr>\n",
       "    <tr>\n",
       "      <th>117</th>\n",
       "      <td>🖼️﻿ Importer vos propres images</td>\n",
       "      <td>https://academiedidask.circle.so/c/creation/im...</td>\n",
       "      <td>NaN</td>\n",
       "      <td>NaN</td>\n",
       "      <td>NaN</td>\n",
       "    </tr>\n",
       "  </tbody>\n",
       "</table>\n",
       "</div>"
      ],
      "text/plain": [
       "                                          circle_title  \\\n",
       "12             Comment créer et paramétrer un projet ?   \n",
       "21   📣 Nouveautés du 31 août 2023 : Les relances au...   \n",
       "29   Comment verrouiller des modules pour les diffu...   \n",
       "34   Exemples de questions pour faire évaluer votre...   \n",
       "76                  🔐 Documentation Technique Didask     \n",
       "79           🧠 Ajouter des Flashcards de mémorisation    \n",
       "94    👁️ Choisir l’affichage de vos granules d’exer...   \n",
       "95                     🎨 Les modes du Créateur Visuel    \n",
       "112           🤷‍♀️ Personne ne s'inscrit, que faire ?    \n",
       "116          ✏️ Ajouter une description de publication   \n",
       "117                   🖼️﻿ Importer vos propres images    \n",
       "\n",
       "                                            circle_url intercom_title  \\\n",
       "12   https://academiedidask.circle.so/c/creation/cr...            NaN   \n",
       "21   https://academiedidask.circle.so/c/nouveautes-...            NaN   \n",
       "29   https://academiedidask.circle.so/c/animation/v...            NaN   \n",
       "34   https://academiedidask.circle.so/c/animation/e...            NaN   \n",
       "76   https://academiedidask.circle.so/c/diffusion/d...            NaN   \n",
       "79   https://academiedidask.circle.so/c/creation/aj...            NaN   \n",
       "94   https://academiedidask.circle.so/c/creation/ch...            NaN   \n",
       "95   https://academiedidask.circle.so/c/creation/mo...            NaN   \n",
       "112  https://academiedidask.circle.so/c/animation/p...            NaN   \n",
       "116  https://academiedidask.circle.so/c/publication...            NaN   \n",
       "117  https://academiedidask.circle.so/c/creation/im...            NaN   \n",
       "\n",
       "    intercom_id intercom_url  \n",
       "12          NaN          NaN  \n",
       "21          NaN          NaN  \n",
       "29          NaN          NaN  \n",
       "34          NaN          NaN  \n",
       "76          NaN          NaN  \n",
       "79          NaN          NaN  \n",
       "94          NaN          NaN  \n",
       "95          NaN          NaN  \n",
       "112         NaN          NaN  \n",
       "116         NaN          NaN  \n",
       "117         NaN          NaN  "
      ]
     },
     "metadata": {},
     "output_type": "display_data"
    }
   ],
   "source": [
    "is_problem_article = (df_articles['circle_title'] != df_articles['intercom_title'])\n",
    "print(is_problem_article.sum())\n",
    "df_articles[is_problem_article]"
   ]
  },
  {
   "cell_type": "code",
   "execution_count": null,
   "metadata": {},
   "outputs": [
    {
     "data": {
      "text/plain": [
       "10"
      ]
     },
     "metadata": {},
     "output_type": "display_data"
    }
   ],
   "source": [
    "df_articles['intercom_title'].duplicated().sum()"
   ]
  },
  {
   "cell_type": "code",
   "execution_count": null,
   "metadata": {},
   "outputs": [
    {
     "data": {
      "text/plain": [
       "['🚀 Tout savoir sur la publication de vos projets',\n",
       " '🤝 Rendre un projet visible aux membres de mon équipe',\n",
       " '⤴️ Comment copier un granule, un module ou un projet vers un autre projet ?',\n",
       " \"Quand proposer de l'apprentissage par projet ?\",\n",
       " '📣 Nouveautés du 11 septembre 2023 : Paramétrer des avatars pour l’ensemble d’un projet + Filtrer les statistiques',\n",
       " '👨 Paramétrer des avatars dans un projet']"
      ]
     },
     "metadata": {},
     "output_type": "display_data"
    }
   ],
   "source": [
    "[a['title'] for a in articles['data'] if \"projet\"  in a['title']]"
   ]
  },
  {
   "cell_type": "code",
   "execution_count": null,
   "metadata": {},
   "outputs": [],
   "source": []
  }
 ],
 "metadata": {
  "kernelspec": {
   "display_name": "pydidask",
   "language": "python",
   "name": "python3"
  },
  "language_info": {
   "codemirror_mode": {
    "name": "ipython",
    "version": 3
   },
   "file_extension": ".py",
   "mimetype": "text/x-python",
   "name": "python",
   "nbconvert_exporter": "python",
   "pygments_lexer": "ipython3",
   "version": "3.12.0"
  }
 },
 "nbformat": 4,
 "nbformat_minor": 2
}
