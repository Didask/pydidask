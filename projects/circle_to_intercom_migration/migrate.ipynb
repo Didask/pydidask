{
 "cells": [
  {
   "cell_type": "code",
   "execution_count": 1,
   "metadata": {},
   "outputs": [],
   "source": [
    "from api_circle import CircleAPI\n",
    "from api_circle import render_json\n",
    "from api_intercom import IntercomAPI\n",
    "from migrate_circle_posts_to_intercom import MigrateCirclePostsToIntercom\n",
    "import pandas as pd"
   ]
  },
  {
   "cell_type": "code",
   "execution_count": 2,
   "metadata": {},
   "outputs": [],
   "source": [
    "migration = MigrateCirclePostsToIntercom()"
   ]
  },
  {
   "cell_type": "markdown",
   "metadata": {},
   "source": [
    "# migrate all collections"
   ]
  },
  {
   "cell_type": "code",
   "execution_count": null,
   "metadata": {},
   "outputs": [],
   "source": [
    "## delete existing collections\n",
    "# migration.delete_all_intercom_collections(are_you_sure=False)"
   ]
  },
  {
   "cell_type": "code",
   "execution_count": null,
   "metadata": {},
   "outputs": [],
   "source": [
    "#res_collections = migration.migrate_all_collections()"
   ]
  },
  {
   "cell_type": "markdown",
   "metadata": {},
   "source": [
    "# migrate all articles"
   ]
  },
  {
   "cell_type": "code",
   "execution_count": null,
   "metadata": {},
   "outputs": [],
   "source": [
    "## delete existing articles\n",
    "# migration.delete_all_intercom_articles(are_you_sure=False)\n"
   ]
  },
  {
   "cell_type": "code",
   "execution_count": null,
   "metadata": {},
   "outputs": [],
   "source": [
    "#res_articles = migration.migrate_all_articles(display_progress=True)"
   ]
  },
  {
   "cell_type": "code",
   "execution_count": 3,
   "metadata": {},
   "outputs": [
    {
     "name": "stdout",
     "output_type": "stream",
     "text": [
      "number of circle posts: 126\n",
      "number of intercom articles: 125\n"
     ]
    }
   ],
   "source": [
    "posts = CircleAPI.api_get_posts(render=False)\n",
    "print(f'number of circle posts: {len(posts)}')\n",
    "df_posts_circle = pd.DataFrame([{'circle_title': p['name'].strip(), 'circle_url': p['url'].strip()} for p in posts])\n",
    "\n",
    "articles = IntercomAPI.api_get_articles(render=False)\n",
    "print(f'number of intercom articles: {len(articles['data'])}')\n",
    "df_articles_intercom = pd.DataFrame([{'intercom_title': a['title'].strip(), 'intercom_id': a['id'], 'intercom_url': a['url'].strip()} for a in articles['data']])"
   ]
  },
  {
   "cell_type": "code",
   "execution_count": 4,
   "metadata": {},
   "outputs": [],
   "source": [
    "df_articles = pd.merge(left = df_posts_circle, right = df_articles_intercom, left_on = 'circle_title', right_on='intercom_title', how = 'left')"
   ]
  },
  {
   "cell_type": "code",
   "execution_count": 5,
   "metadata": {},
   "outputs": [
    {
     "name": "stdout",
     "output_type": "stream",
     "text": [
      "missing intercom articles: 1\n"
     ]
    },
    {
     "data": {
      "text/html": [
       "<div>\n",
       "<style scoped>\n",
       "    .dataframe tbody tr th:only-of-type {\n",
       "        vertical-align: middle;\n",
       "    }\n",
       "\n",
       "    .dataframe tbody tr th {\n",
       "        vertical-align: top;\n",
       "    }\n",
       "\n",
       "    .dataframe thead th {\n",
       "        text-align: right;\n",
       "    }\n",
       "</style>\n",
       "<table border=\"1\" class=\"dataframe\">\n",
       "  <thead>\n",
       "    <tr style=\"text-align: right;\">\n",
       "      <th></th>\n",
       "      <th>circle_title</th>\n",
       "      <th>circle_url</th>\n",
       "      <th>intercom_title</th>\n",
       "      <th>intercom_id</th>\n",
       "      <th>intercom_url</th>\n",
       "    </tr>\n",
       "  </thead>\n",
       "  <tbody>\n",
       "    <tr>\n",
       "      <th>12</th>\n",
       "      <td>Comment créer et paramétrer un projet ?</td>\n",
       "      <td>https://academiedidask.circle.so/c/creation/cr...</td>\n",
       "      <td>NaN</td>\n",
       "      <td>NaN</td>\n",
       "      <td>NaN</td>\n",
       "    </tr>\n",
       "  </tbody>\n",
       "</table>\n",
       "</div>"
      ],
      "text/plain": [
       "                               circle_title  \\\n",
       "12  Comment créer et paramétrer un projet ?   \n",
       "\n",
       "                                           circle_url intercom_title  \\\n",
       "12  https://academiedidask.circle.so/c/creation/cr...            NaN   \n",
       "\n",
       "   intercom_id intercom_url  \n",
       "12         NaN          NaN  "
      ]
     },
     "execution_count": 5,
     "metadata": {},
     "output_type": "execute_result"
    }
   ],
   "source": [
    "bool_missing_intercom_titles = df_articles['intercom_title'].isna()\n",
    "print(f'missing intercom articles: {bool_missing_intercom_titles.sum()}')\n",
    "df_articles[bool_missing_intercom_titles]"
   ]
  },
  {
   "cell_type": "code",
   "execution_count": 6,
   "metadata": {},
   "outputs": [],
   "source": [
    "## replace the missing value\n",
    "df_articles[\"intercom_url\"].fillna(\"ARTICLE NON CREE SUR INTERCOM (Problème lors de l'importation)\", inplace=True)"
   ]
  },
  {
   "cell_type": "code",
   "execution_count": 15,
   "metadata": {},
   "outputs": [],
   "source": [
    "## change intercom URL to editing URL:\n",
    "url_template = \"https://app.intercom.com/a/apps/xqkc3jp0/articles/articles/{article_id}/show\"\n",
    "df_articles['intercom_url'] = df_articles['intercom_id'].apply(lambda article_id: url_template.format(article_id=article_id))\n"
   ]
  },
  {
   "cell_type": "markdown",
   "metadata": {},
   "source": [
    "## save as google sheets"
   ]
  },
  {
   "cell_type": "code",
   "execution_count": 19,
   "metadata": {},
   "outputs": [],
   "source": [
    "from gdrive.gdrive_api import GDrive\n",
    "from datetime import datetime\n",
    "gdrive = GDrive()\n",
    "## save as excel file\n",
    "df_final = df_articles[['circle_title', 'circle_url', 'intercom_url', 'intercom_id']].rename(columns={'circle_title': 'article_title'})\n",
    "\n",
    "gsheet_title = f'migration-articles-circle-vers-intercom'\n",
    "gsheet_id = gdrive.create_gsheet(gsheet_title)\n",
    "gdrive.dump_df_in_gsheet(df_final, gsheet_id, 0)"
   ]
  },
  {
   "cell_type": "code",
   "execution_count": null,
   "metadata": {},
   "outputs": [],
   "source": [
    "search_for = '31 août 2023'\n",
    "b = df_articles_intercom['intercom_title'].str.contains(search_for)\n",
    "df_articles_intercom[b]"
   ]
  },
  {
   "cell_type": "code",
   "execution_count": null,
   "metadata": {},
   "outputs": [],
   "source": [
    "df_articles.iloc[21]['circle_title']"
   ]
  },
  {
   "cell_type": "code",
   "execution_count": null,
   "metadata": {},
   "outputs": [],
   "source": [
    "df_articles_intercom.loc[b, 'intercom_title'].values"
   ]
  },
  {
   "cell_type": "code",
   "execution_count": null,
   "metadata": {},
   "outputs": [],
   "source": [
    "df_articles_intercom"
   ]
  },
  {
   "cell_type": "markdown",
   "metadata": {},
   "source": [
    "## migrate posts"
   ]
  },
  {
   "cell_type": "markdown",
   "metadata": {},
   "source": [
    "## Posts"
   ]
  },
  {
   "cell_type": "markdown",
   "metadata": {},
   "source": [
    "## Intercom"
   ]
  },
  {
   "cell_type": "code",
   "execution_count": null,
   "metadata": {},
   "outputs": [],
   "source": [
    "intercom_collections = IntercomAPI.api_get_collections()"
   ]
  },
  {
   "cell_type": "code",
   "execution_count": null,
   "metadata": {},
   "outputs": [],
   "source": [
    "res = IntercomAPI.api_create_collection(name=\"new collection\")"
   ]
  },
  {
   "cell_type": "code",
   "execution_count": null,
   "metadata": {},
   "outputs": [],
   "source": [
    "res = IntercomAPI.api_create_collection(name=\"aa\", parent_id=\"8401934\")"
   ]
  },
  {
   "cell_type": "markdown",
   "metadata": {},
   "source": [
    "# SANDBOX"
   ]
  },
  {
   "cell_type": "markdown",
   "metadata": {},
   "source": [
    "## Lookup table of articles - Circle vs Intercom"
   ]
  },
  {
   "cell_type": "code",
   "execution_count": null,
   "metadata": {},
   "outputs": [],
   "source": []
  },
  {
   "cell_type": "code",
   "execution_count": null,
   "metadata": {},
   "outputs": [],
   "source": []
  },
  {
   "cell_type": "code",
   "execution_count": null,
   "metadata": {},
   "outputs": [],
   "source": []
  },
  {
   "cell_type": "code",
   "execution_count": null,
   "metadata": {},
   "outputs": [],
   "source": []
  },
  {
   "cell_type": "code",
   "execution_count": null,
   "metadata": {},
   "outputs": [],
   "source": [
    "is_problem_article = (df_articles['circle_title'] != df_articles['intercom_title'])\n",
    "print(is_problem_article.sum())\n",
    "df_articles[is_problem_article]"
   ]
  },
  {
   "cell_type": "code",
   "execution_count": null,
   "metadata": {},
   "outputs": [],
   "source": [
    "df_articles['intercom_title'].duplicated().sum()"
   ]
  },
  {
   "cell_type": "code",
   "execution_count": null,
   "metadata": {},
   "outputs": [],
   "source": [
    "[a['title'] for a in articles['data'] if \"projet\"  in a['title']]"
   ]
  }
 ],
 "metadata": {
  "kernelspec": {
   "display_name": "pydidask",
   "language": "python",
   "name": "python3"
  },
  "language_info": {
   "codemirror_mode": {
    "name": "ipython",
    "version": 3
   },
   "file_extension": ".py",
   "mimetype": "text/x-python",
   "name": "python",
   "nbconvert_exporter": "python",
   "pygments_lexer": "ipython3",
   "version": "3.12.0"
  }
 },
 "nbformat": 4,
 "nbformat_minor": 2
}
