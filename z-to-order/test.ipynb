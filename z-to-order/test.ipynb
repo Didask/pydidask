{
 "cells": [
  {
   "cell_type": "code",
   "execution_count": 1,
   "metadata": {},
   "outputs": [],
   "source": [
    "\n",
    "import os\n",
    "from pymongo.mongo_client import MongoClient\n",
    "from pymongo.server_api import ServerApi\n",
    "import subprocess\n",
    "from dotenv import load_dotenv\n",
    "from pathlib import Path\n",
    "import re\n",
    "from tqdm import tqdm\n",
    "load_dotenv()\n",
    "\n",
    "USERNAME = os.getenv('USERNAME')\n",
    "PASSWORD = os.getenv('PASSWORD')\n",
    "URL_CLUSTER_BACKUP = os.getenv('URL_CLUSTER_BACKUP')\n",
    "URL_CLUSTER_PROD = os.getenv('URL_CLUSTER_PROD')\n",
    "\n",
    "URI_CLUSTER_PROD = f\"mongodb+srv://{USERNAME}:{PASSWORD}@{URL_CLUSTER_PROD}\"\n",
    "URI_CLUSTER_BACKUP = f\"mongodb+srv://{USERNAME}:{PASSWORD}@{URL_CLUSTER_BACKUP}\"\n",
    "\n",
    "URI_LOCAL = \"mongodb://localhost:27017\"\n",
    "\n",
    "PATH_MONGO_LOCAL = Path(\"/Users/selimrbd/Applications/mongodb\")\n",
    "PATH_MONGO_LOCAL_DATA = PATH_MONGO_LOCAL/\"data\"\n",
    "PATH_MONGO_LOCAL_DB = PATH_MONGO_LOCAL_DATA/\"db\"\n",
    "PATH_MONGO_LOCAL_ARCHIVES = PATH_MONGO_LOCAL_DATA/\"archives\""
   ]
  },
  {
   "cell_type": "code",
   "execution_count": 3,
   "metadata": {},
   "outputs": [
    {
     "ename": "NameError",
     "evalue": "name 'test_mongo_client' is not defined",
     "output_type": "error",
     "traceback": [
      "\u001b[0;31m---------------------------------------------------------------------------\u001b[0m",
      "\u001b[0;31mNameError\u001b[0m                                 Traceback (most recent call last)",
      "\u001b[1;32m/Users/selimrbd/Desktop/didask/pydidask/test.ipynb Cell 2\u001b[0m line \u001b[0;36m3\n\u001b[1;32m      <a href='vscode-notebook-cell:/Users/selimrbd/Desktop/didask/pydidask/test.ipynb#W2sZmlsZQ%3D%3D?line=0'>1</a>\u001b[0m \u001b[39m#mongo_client = MongoClient(URI_CLUSTER_BACKUP)\u001b[39;00m\n\u001b[1;32m      <a href='vscode-notebook-cell:/Users/selimrbd/Desktop/didask/pydidask/test.ipynb#W2sZmlsZQ%3D%3D?line=1'>2</a>\u001b[0m mongo_client \u001b[39m=\u001b[39m MongoClient(URI_CLUSTER_PROD)\n\u001b[0;32m----> <a href='vscode-notebook-cell:/Users/selimrbd/Desktop/didask/pydidask/test.ipynb#W2sZmlsZQ%3D%3D?line=2'>3</a>\u001b[0m test_mongo_client(mongo_client)\n\u001b[1;32m      <a href='vscode-notebook-cell:/Users/selimrbd/Desktop/didask/pydidask/test.ipynb#W2sZmlsZQ%3D%3D?line=3'>4</a>\u001b[0m mongo_client_local \u001b[39m=\u001b[39m MongoClient(URI_LOCAL)\n\u001b[1;32m      <a href='vscode-notebook-cell:/Users/selimrbd/Desktop/didask/pydidask/test.ipynb#W2sZmlsZQ%3D%3D?line=4'>5</a>\u001b[0m test_mongo_client(mongo_client_local)\n",
      "\u001b[0;31mNameError\u001b[0m: name 'test_mongo_client' is not defined"
     ]
    }
   ],
   "source": [
    "#mongo_client = MongoClient(URI_CLUSTER_BACKUP)\n",
    "mongo_client = MongoClient(URI_CLUSTER_PROD)\n",
    "test_mongo_client(mongo_client)\n",
    "mongo_client_local = MongoClient(URI_LOCAL)\n",
    "test_mongo_client(mongo_client_local)"
   ]
  },
  {
   "cell_type": "code",
   "execution_count": null,
   "metadata": {},
   "outputs": [],
   "source": []
  }
 ],
 "metadata": {
  "kernelspec": {
   "display_name": "pydidask",
   "language": "python",
   "name": "python3"
  },
  "language_info": {
   "codemirror_mode": {
    "name": "ipython",
    "version": 3
   },
   "file_extension": ".py",
   "mimetype": "text/x-python",
   "name": "python",
   "nbconvert_exporter": "python",
   "pygments_lexer": "ipython3",
   "version": "3.12.0"
  }
 },
 "nbformat": 4,
 "nbformat_minor": 2
}
