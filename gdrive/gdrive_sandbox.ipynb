{
 "cells": [
  {
   "cell_type": "code",
   "execution_count": 1,
   "metadata": {},
   "outputs": [],
   "source": [
    "from gdrive_api import GDrive\n",
    "import pandas as pd"
   ]
  },
  {
   "cell_type": "code",
   "execution_count": 2,
   "metadata": {},
   "outputs": [],
   "source": [
    "gdrive = GDrive()"
   ]
  },
  {
   "cell_type": "code",
   "execution_count": 7,
   "metadata": {},
   "outputs": [
    {
     "data": {
      "text/plain": [
       "[]"
      ]
     },
     "execution_count": 7,
     "metadata": {},
     "output_type": "execute_result"
    }
   ],
   "source": [
    "gdrive.ls(folder_id=\"1QZwPFapCSmyoQNzUK5DdsgPWEzkL90wg\")"
   ]
  },
  {
   "cell_type": "code",
   "execution_count": 11,
   "metadata": {},
   "outputs": [],
   "source": [
    "df = pd.DataFrame({\n",
    "    'Name': ['Alice', 'Bob', 'Charlie'],\n",
    "    'Age': [25, 30, 35],\n",
    "    'City': ['New York', 'Los Angeles', 'Chicago']\n",
    "})"
   ]
  },
  {
   "cell_type": "code",
   "execution_count": 12,
   "metadata": {},
   "outputs": [],
   "source": [
    "gsheet_id = gdrive.create_gsheet('new sheet')\n",
    "gdrive.dump_df_in_gsheet(df=df, gsheet_id=gsheet_id, worksheet_num=0)"
   ]
  },
  {
   "cell_type": "code",
   "execution_count": 8,
   "metadata": {},
   "outputs": [],
   "source": []
  },
  {
   "cell_type": "code",
   "execution_count": null,
   "metadata": {},
   "outputs": [],
   "source": [
    "a[0].id"
   ]
  },
  {
   "cell_type": "markdown",
   "metadata": {},
   "source": [
    "## pygsheets"
   ]
  },
  {
   "cell_type": "code",
   "execution_count": null,
   "metadata": {},
   "outputs": [],
   "source": [
    "# Authenticate using the service account file\n",
    "gc = pygsheets.authorize(service_file=path_gdrive_creds)\n",
    "\n",
    "# Create a new Google Sheet in a specific folder\n",
    "folder_id = \"12uz-Jmi9FEk-V5_7bZ63q41Ytg1IatUX\" #_DATA\n",
    "sheet_title = \"New Sheet 22\"\n",
    "folder_id = folder_id\n",
    "spreadsheet = gc.create(sheet_title, folder=folder_id)\n",
    "\n",
    "\n",
    "print(f\"Spreadsheet created with ID: {spreadsheet.id}\")"
   ]
  },
  {
   "cell_type": "markdown",
   "metadata": {},
   "source": [
    "## google drive API - list files in folder"
   ]
  },
  {
   "cell_type": "code",
   "execution_count": null,
   "metadata": {},
   "outputs": [],
   "source": [
    "from google.oauth2.service_account import Credentials\n",
    "from googleapiclient.discovery import build\n",
    "\n",
    "# Replace 'path/to/your/service-account-file.json' with the path to your service account credentials file\n",
    "SERVICE_ACCOUNT_FILE = path_gdrive_creds\n",
    "SCOPES = ['https://www.googleapis.com/auth/drive']\n",
    "\n",
    "credentials = Credentials.from_service_account_file(SERVICE_ACCOUNT_FILE, scopes=SCOPES)\n",
    "\n",
    "service = build('drive', 'v3', credentials=credentials)\n",
    "\n",
    "# Replace 'your-folder-id-here' with the actual ID of the folder you want to list\n",
    "#folder_id = \"1LmDC3jkcAAamLLNOMtUnBBKicyYz5jv2\"\n",
    "#folder_id = \"1QZwPFapCSmyoQNzUK5DdsgPWEzkL90wg\" #Pôle Data\n",
    "folder_id = \"12uz-Jmi9FEk-V5_7bZ63q41Ytg1IatUX\" #_DATA\n",
    "#folder_id = 'root'\n",
    "\n",
    "# Query to list files in the specified folder\n",
    "results = service.files().list(q=f\"'{folder_id}' in parents\", pageSize=100, fields=\"nextPageToken, files(id, name)\").execute()\n",
    "items = results.get('files', [])\n",
    "\n",
    "if not items:\n",
    "    print('No files found.')\n",
    "else:\n",
    "    print('Files:')\n",
    "    for item in items:\n",
    "        print(u'{0} ({1})'.format(item['name'], item['id']))"
   ]
  },
  {
   "cell_type": "code",
   "execution_count": null,
   "metadata": {},
   "outputs": [],
   "source": []
  },
  {
   "cell_type": "markdown",
   "metadata": {},
   "source": [
    "## new test"
   ]
  },
  {
   "cell_type": "code",
   "execution_count": null,
   "metadata": {},
   "outputs": [],
   "source": [
    "from google.oauth2.service_account import Credentials\n",
    "from googleapiclient.discovery import build\n",
    "\n",
    "CONFIG = load_config()\n",
    "GDRIVE_SERVICE_ACCOUNT_FILE = Path(CONFIG['gdrive']['service_account_key_path']).expanduser()\n",
    "GDRIVE_SCOPES = ['https://www.googleapis.com/auth/spreadsheets', 'https://www.googleapis.com/auth/drive']"
   ]
  },
  {
   "cell_type": "code",
   "execution_count": null,
   "metadata": {},
   "outputs": [],
   "source": [
    "#folder_id = '12uz-Jmi9FEk-V5_7bZ63q41Ytg1IatUX'\n",
    "folder_id = \"1QZwPFapCSmyoQNzUK5DdsgPWEzkL90wg\"\n",
    "gsheet_name = 'my sheet 12345'"
   ]
  },
  {
   "cell_type": "code",
   "execution_count": null,
   "metadata": {},
   "outputs": [],
   "source": [
    "credentials = Credentials.from_service_account_file(GDRIVE_SERVICE_ACCOUNT_FILE, scopes=GDRIVE_SCOPES)\n",
    "\n",
    "# Build the service for both Sheets and Drive\n",
    "service_sheets = build('sheets', 'v4', credentials=credentials)\n",
    "service_drive = build('drive', 'v3', credentials=credentials)\n",
    "\n",
    "# Create a new Google Sheet\n",
    "sheet_metadata = {\n",
    "    'properties': {\n",
    "        'title': gsheet_name\n",
    "    }\n",
    "}\n",
    "sheet = service_sheets.spreadsheets().create(body=sheet_metadata, fields='spreadsheetId').execute()\n",
    "sheet_id = sheet.get('spreadsheetId')\n",
    "\n",
    "# Move the new Google Sheet to the specified folder\n",
    "file_metadata = {\n",
    "    'addParents': folder_id,\n",
    "    'removeParents': 'root'\n",
    "}\n",
    "service_drive.files().update(fileId=sheet_id, addParents=folder_id, removeParents='root', fields='id, parents').execute()\n",
    "\n",
    "print(f\"Created new Google Sheet with ID: {sheet_id} in folder ID: {folder_id}\")\n"
   ]
  },
  {
   "cell_type": "code",
   "execution_count": null,
   "metadata": {},
   "outputs": [],
   "source": []
  }
 ],
 "metadata": {
  "kernelspec": {
   "display_name": "pydidask",
   "language": "python",
   "name": "python3"
  },
  "language_info": {
   "codemirror_mode": {
    "name": "ipython",
    "version": 3
   },
   "file_extension": ".py",
   "mimetype": "text/x-python",
   "name": "python",
   "nbconvert_exporter": "python",
   "pygments_lexer": "ipython3",
   "version": "3.12.0"
  }
 },
 "nbformat": 4,
 "nbformat_minor": 2
}
