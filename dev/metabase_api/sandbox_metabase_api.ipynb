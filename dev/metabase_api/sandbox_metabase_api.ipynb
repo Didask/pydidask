{
 "cells": [
  {
   "cell_type": "code",
   "execution_count": 57,
   "metadata": {},
   "outputs": [],
   "source": [
    "import sys\n",
    "sys.path.append('..')\n",
    "import requests\n",
    "from utils import load_config, render_json\n",
    "from pathlib import Path\n",
    "\n",
    "def refresh_metabase_token(username: str = METABASE_USERNAME, password: str = METABASE_PASSWORD, url: str=METABASE_URL,  path_token: Path=PATH_METABASE_TOKEN):\n",
    "    headers = headers = {\"Content-Type\": \"application/json\"}\n",
    "    payload = {\"username\": username, \"password\": password}\n",
    "    url_api_session = f\"{url}/api/session\"\n",
    "    req = requests.post(url_api_session, json=payload, headers=headers)\n",
    "    metabase_token = req.json()[\"id\"]\n",
    "    with open(path_token, 'w') as f:\n",
    "        f.write(metabase_token)\n",
    "    \n",
    "def get_metabase_token(username: str = METABASE_USERNAME, password: str = METABASE_PASSWORD, url: str=METABASE_URL,  path_token: Path=PATH_METABASE_TOKEN):\n",
    "    \n",
    "    if path_token.exists():\n",
    "        metabase_token = path_token.read_text()\n",
    "    else:\n",
    "        refresh_metabase_token(username=username, password=password, url=url, path_token=path_token)\n",
    "    with open(path_token, 'r') as f:\n",
    "        metabase_token = f.read()\n",
    "    return metabase_token\n",
    "\n",
    "config = load_config()['metabase']\n",
    "METABASE_USERNAME = config['username']\n",
    "METABASE_PASSWORD = config['password']\n",
    "METABASE_URL = config['url']\n",
    "PATH_METABASE_TOKEN = Path('../../config/.metabase_token')\n",
    "METABASE_TOKEN = get_metabase_token()"
   ]
  },
  {
   "cell_type": "code",
   "execution_count": 54,
   "metadata": {},
   "outputs": [
    {
     "data": {
      "text/plain": [
       "'07a7cb6d-3976-441e-aad9-c24039a7e531'"
      ]
     },
     "execution_count": 54,
     "metadata": {},
     "output_type": "execute_result"
    }
   ],
   "source": [
    "def hit_metabase_api(token: str, url: str):\n",
    "    headers = headers = {\"Content-Type\": \"application/json\", \"X-Metabase-Session\": token}\n",
    "    url =       "
   ]
  },
  {
   "cell_type": "code",
   "execution_count": 62,
   "metadata": {},
   "outputs": [
    {
     "data": {
      "text/html": [
       "<div id=\"ad664b6f-dec6-492b-b5b0-670fb1713a8a\" style=\"height: auto; width:100%;\"></div>"
      ],
      "text/plain": [
       "<IPython.core.display.HTML object>"
      ]
     },
     "metadata": {},
     "output_type": "display_data"
    },
    {
     "data": {
      "text/html": [
       "<script>\n",
       "        require([\"https://rawgit.com/caldwell/renderjson/master/renderjson.js\"], function() {\n",
       "          renderjson.set_show_to_level(1)\n",
       "          document.getElementById('ad664b6f-dec6-492b-b5b0-670fb1713a8a').appendChild(renderjson([{'timestamp': '2024-02-26T07:38:54.068613+01:00', 'device_description': 'Library (Python-requests/unknown)', 'ip_address': '89.90.132.231', 'active': 'True', 'location': 'Sevran, Île-de-France, France', 'timezone': 'CET'}, {'timestamp': '2024-02-26T07:36:53.498188+01:00', 'device_description': 'Library (Python-requests/unknown)', 'ip_address': '89.90.132.231', 'active': 'True', 'location': 'Sevran, Île-de-France, France', 'timezone': 'CET'}, {'timestamp': '2024-02-26T07:36:29.525235+01:00', 'device_description': 'Library (Python-requests/unknown)', 'ip_address': '89.90.132.231', 'active': 'True', 'location': 'Sevran, Île-de-France, France', 'timezone': 'CET'}, {'timestamp': '2024-02-26T07:28:11.20886+01:00', 'device_description': 'Library (Python-requests/unknown)', 'ip_address': '89.90.132.231', 'active': 'True', 'location': 'Sevran, Île-de-France, France', 'timezone': 'CET'}, {'timestamp': '2024-02-26T07:15:34.130755+01:00', 'device_description': 'Browser (Chrome/OS X)', 'ip_address': '89.90.132.231', 'active': 'True', 'location': 'Sevran, Île-de-France, France', 'timezone': 'CET'}, {'timestamp': '2024-02-26T07:15:32.351995+01:00', 'device_description': 'Browser (Chrome/OS X)', 'ip_address': '89.90.132.231', 'active': 'False', 'location': 'Sevran, Île-de-France, France', 'timezone': 'CET'}, {'timestamp': '2024-02-26T07:15:21.081063+01:00', 'device_description': 'Browser (Chrome/OS X)', 'ip_address': '89.90.132.231', 'active': 'False', 'location': 'Sevran, Île-de-France, France', 'timezone': 'CET'}, {'timestamp': '2024-02-26T07:15:19.09863+01:00', 'device_description': 'Browser (Chrome/OS X)', 'ip_address': '89.90.132.231', 'active': 'False', 'location': 'Sevran, Île-de-France, France', 'timezone': 'CET'}, {'timestamp': '2024-02-26T07:15:05.425243+01:00', 'device_description': 'Browser (Chrome/OS X)', 'ip_address': '89.90.132.231', 'active': 'False', 'location': 'Sevran, Île-de-France, France', 'timezone': 'CET'}, {'timestamp': '2024-02-26T07:15:04.024149+01:00', 'device_description': 'Browser (Chrome/OS X)', 'ip_address': '89.90.132.231', 'active': 'False', 'location': 'Sevran, Île-de-France, France', 'timezone': 'CET'}, {'timestamp': '2024-02-26T07:14:16.008287+01:00', 'device_description': 'Browser (Chrome/OS X)', 'ip_address': '89.90.132.231', 'active': 'False', 'location': 'Sevran, Île-de-France, France', 'timezone': 'CET'}, {'timestamp': '2024-02-26T07:14:11.649248+01:00', 'device_description': 'Browser (Chrome/OS X)', 'ip_address': '89.90.132.231', 'active': 'False', 'location': 'Sevran, Île-de-France, France', 'timezone': 'CET'}, {'timestamp': '2024-02-26T07:00:31.1207+01:00', 'device_description': 'Browser (Chrome/OS X)', 'ip_address': '89.90.132.231', 'active': 'False', 'location': 'Sevran, Île-de-France, France', 'timezone': 'CET'}, {'timestamp': '2024-02-25T15:16:12.991866+01:00', 'device_description': 'Browser (Chrome/OS X)', 'ip_address': '86.247.16.253', 'active': 'False', 'location': 'Massy, Île-de-France, France', 'timezone': 'CET'}, {'timestamp': '2024-02-24T18:54:07.259686+01:00', 'device_description': 'Browser (Chrome/OS X)', 'ip_address': '81.67.128.251', 'active': 'False', 'location': 'Paris, Île-de-France, France', 'timezone': 'CET'}, {'timestamp': '2024-02-21T09:57:37.565641+01:00', 'device_description': 'Browser (Chrome/OS X)', 'ip_address': '89.90.132.231', 'active': 'False', 'location': 'Sevran, Île-de-France, France', 'timezone': 'CET'}, {'timestamp': '2024-02-20T19:59:29.703032+01:00', 'device_description': 'Browser (Chrome/OS X)', 'ip_address': '89.90.132.231', 'active': 'False', 'location': 'Sevran, Île-de-France, France', 'timezone': 'CET'}, {'timestamp': '2024-02-20T03:41:23.752573+01:00', 'device_description': 'Browser (Chrome/OS X)', 'ip_address': '89.90.132.231', 'active': 'False', 'location': 'Sevran, Île-de-France, France', 'timezone': 'CET'}, {'timestamp': '2024-02-20T03:29:42.67112+01:00', 'device_description': 'Browser (Chrome/OS X)', 'ip_address': '89.90.132.231', 'active': 'False', 'location': 'Sevran, Île-de-France, France', 'timezone': 'CET'}, {'timestamp': '2024-02-19T08:50:03.740606+01:00', 'device_description': 'Browser (Chrome/OS X)', 'ip_address': '89.90.132.231', 'active': 'False', 'location': 'Sevran, Île-de-France, France', 'timezone': 'CET'}, {'timestamp': '2024-02-18T20:18:36.090768+01:00', 'device_description': 'Browser (Chrome/OS X)', 'ip_address': '81.67.128.251', 'active': 'False', 'location': 'Paris, Île-de-France, France', 'timezone': 'CET'}, {'timestamp': '2024-02-17T21:39:17.868736+01:00', 'device_description': 'Browser (Chrome/OS X)', 'ip_address': '89.90.132.231', 'active': 'False', 'location': 'Sevran, Île-de-France, France', 'timezone': 'CET'}, {'timestamp': '2024-02-10T21:33:26.733785+01:00', 'device_description': 'Browser (Chrome/OS X)', 'ip_address': '196.235.78.122', 'active': 'False', 'location': 'Medenine, Medenine Governorate, Tunisia', 'timezone': 'CET'}, {'timestamp': '2024-02-10T21:29:59.195356+01:00', 'device_description': 'Browser (Chrome/OS X)', 'ip_address': '196.235.78.122', 'active': 'False', 'location': 'Medenine, Medenine Governorate, Tunisia', 'timezone': 'CET'}, {'timestamp': '2024-02-07T08:10:51.785852+01:00', 'device_description': 'Browser (Chrome/OS X)', 'ip_address': '197.27.121.49', 'active': 'False', 'location': 'Tunisia', 'timezone': 'CET'}, {'timestamp': '2024-02-06T10:39:30.313101+01:00', 'device_description': 'Browser (Chrome/OS X)', 'ip_address': '197.27.121.49', 'active': 'False', 'location': 'Tunisia', 'timezone': 'CET'}, {'timestamp': '2024-02-02T10:04:05.850382+01:00', 'device_description': 'Browser (Chrome/OS X)', 'ip_address': '89.90.132.231', 'active': 'False', 'location': 'Sevran, Île-de-France, France', 'timezone': 'CET'}, {'timestamp': '2024-01-31T09:05:11.874778+01:00', 'device_description': 'Browser (Chrome/OS X)', 'ip_address': '89.90.132.231', 'active': 'False', 'location': 'Sevran, Île-de-France, France', 'timezone': 'CET'}, {'timestamp': '2024-01-27T16:11:36.438942+01:00', 'device_description': 'Browser (Chrome/OS X)', 'ip_address': '86.247.33.241', 'active': 'False', 'location': 'Paris, Île-de-France, France', 'timezone': 'CET'}, {'timestamp': '2024-01-25T11:08:44.119569+01:00', 'device_description': 'Browser (Chrome/OS X)', 'ip_address': '90.92.198.228', 'active': 'False', 'location': 'Paris, Île-de-France, France', 'timezone': 'CET'}, {'timestamp': '2024-01-23T02:05:22.65153+01:00', 'device_description': 'Browser (Chrome/OS X)', 'ip_address': '89.90.132.231', 'active': 'False', 'location': 'Sevran, Île-de-France, France', 'timezone': 'CET'}, {'timestamp': '2024-01-22T18:31:05.205442+01:00', 'device_description': 'Browser (Chrome/OS X)', 'ip_address': '89.90.132.231', 'active': 'False', 'location': 'Sevran, Île-de-France, France', 'timezone': 'CET'}, {'timestamp': '2024-01-22T17:38:01.851921+01:00', 'device_description': 'Browser (Chrome/OS X)', 'ip_address': '90.92.198.228', 'active': 'False', 'location': 'Paris, Île-de-France, France', 'timezone': 'CET'}, {'timestamp': '2024-01-17T14:38:35.943948+01:00', 'device_description': 'Browser (Chrome/OS X)', 'ip_address': '80.14.31.232', 'active': 'False', 'location': 'Villeurbanne, Auvergne-Rhone-Alpes, France', 'timezone': 'CET'}, {'timestamp': '2024-01-11T05:37:18.125712+01:00', 'device_description': 'Browser (Chrome/OS X)', 'ip_address': '89.90.132.231', 'active': 'False', 'location': 'Sevran, Île-de-France, France', 'timezone': 'CET'}, {'timestamp': '2024-01-10T10:35:38.205949+01:00', 'device_description': 'Browser (Chrome/OS X)', 'ip_address': '89.90.132.231', 'active': 'False', 'location': 'Sevran, Île-de-France, France', 'timezone': 'CET'}, {'timestamp': '2024-01-09T14:11:13.173795+01:00', 'device_description': 'Browser (Chrome/OS X)', 'ip_address': '185.94.56.253', 'active': 'False', 'location': 'France', 'timezone': 'CET'}, {'timestamp': '2024-01-08T09:20:06.33064+01:00', 'device_description': 'Browser (Chrome/OS X)', 'ip_address': '89.90.132.231', 'active': 'False', 'location': 'Sevran, Île-de-France, France', 'timezone': 'CET'}, {'timestamp': '2023-12-27T23:53:07.848796+01:00', 'device_description': 'Browser (Chrome/OS X)', 'ip_address': '89.90.132.231', 'active': 'False', 'location': 'Sevran, Île-de-France, France', 'timezone': 'CET'}, {'timestamp': '2023-12-26T09:30:40.12105+01:00', 'device_description': 'Browser (Chrome/OS X)', 'ip_address': '89.90.132.231', 'active': 'False', 'location': 'Sevran, Île-de-France, France', 'timezone': 'CET'}, {'timestamp': '2023-12-12T09:38:57.205929+01:00', 'device_description': 'Browser (Chrome/OS X)', 'ip_address': '89.90.132.231', 'active': 'False', 'location': 'Sevran, Île-de-France, France', 'timezone': 'CET'}]))\n",
       "        });</script>\n",
       "        "
      ],
      "text/plain": [
       "<IPython.core.display.HTML object>"
      ]
     },
     "metadata": {},
     "output_type": "display_data"
    }
   ],
   "source": [
    "headers = {\"Content-Type\": \"application/json\", \"X-Metabase-Session\": METABASE_TOKEN}\n",
    "url = f\"{METABASE_URL}/api/login-history/current\"\n",
    "res = requests.get(url, headers=headers)\n",
    "render_json(res.json())"
   ]
  },
  {
   "cell_type": "code",
   "execution_count": 60,
   "metadata": {},
   "outputs": [
    {
     "data": {
      "text/plain": [
       "'https://didask.metabaseapp.com'"
      ]
     },
     "execution_count": 60,
     "metadata": {},
     "output_type": "execute_result"
    }
   ],
   "source": [
    "METABASE_URL"
   ]
  },
  {
   "cell_type": "code",
   "execution_count": null,
   "metadata": {},
   "outputs": [],
   "source": []
  }
 ],
 "metadata": {
  "kernelspec": {
   "display_name": "pydidask",
   "language": "python",
   "name": "python3"
  },
  "language_info": {
   "codemirror_mode": {
    "name": "ipython",
    "version": 3
   },
   "file_extension": ".py",
   "mimetype": "text/x-python",
   "name": "python",
   "nbconvert_exporter": "python",
   "pygments_lexer": "ipython3",
   "version": "3.12.0"
  }
 },
 "nbformat": 4,
 "nbformat_minor": 2
}
