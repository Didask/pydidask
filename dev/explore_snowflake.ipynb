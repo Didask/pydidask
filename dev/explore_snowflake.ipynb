{
 "cells": [
  {
   "cell_type": "code",
   "execution_count": 7,
   "metadata": {},
   "outputs": [],
   "source": [
    "from utils_snowflake import create_snowflake_engine\n",
    "from utils import RenderJSON\n",
    "import pandas as pd\n",
    "import json\n",
    "import random"
   ]
  },
  {
   "cell_type": "code",
   "execution_count": 2,
   "metadata": {},
   "outputs": [],
   "source": [
    "cursor = create_snowflake_engine(\"RAW\", 'HUBSPOT_AIRBYTE')"
   ]
  },
  {
   "cell_type": "code",
   "execution_count": 25,
   "metadata": {},
   "outputs": [],
   "source": [
    "df = pd.read_sql_query(\"select * from engagements limit 100\", cursor)"
   ]
  },
  {
   "cell_type": "code",
   "execution_count": 31,
   "metadata": {},
   "outputs": [
    {
     "name": "stdout",
     "output_type": "stream",
     "text": [
      "45\n",
      "number of properties: 1\n"
     ]
    },
    {
     "data": {
      "text/html": [
       "<div id=\"e270f6fe-08b6-41a0-8025-e297c98bdb1e\" style=\"height: auto; width:100%;\"></div>"
      ],
      "text/plain": [
       "<IPython.core.display.HTML object>"
      ]
     },
     "metadata": {},
     "output_type": "display_data"
    },
    {
     "data": {
      "text/html": [
       "<script>\n",
       "        require([\"https://rawgit.com/caldwell/renderjson/master/renderjson.js\"], function() {\n",
       "          renderjson.set_show_to_level(1)\n",
       "          document.getElementById('e270f6fe-08b6-41a0-8025-e297c98bdb1e').appendChild(renderjson({\"body\": \"Email sent from campaign PME 200/500 - Responsable formation (Step #1)<br />Subject: Prise de contact<br />Text: <p style=\\\"box-sizing: border-box; margin: 0pt 0px; color: rgb(0, 0, 0); font-family: sans-serif; font-size: 14px; font-style: normal; font-variant-ligatures: normal; font-variant-caps: normal; font-weight: 400; letter-spacing: normal; orphans: 2; text-align: left; text-indent: 0px; text-transform: none; widows: 2; word-spacing: 0px; -webkit-text-stroke-width: 0px; white-space: normal; background-color: rgb(255, 255, 255); text-decoration-thickness: initial; text-decoration-style: initial; text-decoration-color: initial; line-height: 1.38;\\\" dir=\\\"ltr\\\"><span style=\\\"font-family: Arial, Helvetica, sans-serif; box-sizing: border-box;\\\">Bonjour Laetitia,</span></p><p style=\\\"box-sizing: border-box; margin: 0pt 0px; color: rgb(0, 0, 0); font-family: sans-serif; font-size: 14px; font-style: normal; font-variant-ligatures: normal; font-variant-caps: normal; font-weight: 400; letter-spacing: normal; orphans: 2; text-align: left; text-indent: 0px; text-transform: none; widows: 2; word-spacing: 0px; -webkit-text-stroke-width: 0px; white-space: normal; background-color: rgb(255, 255, 255); text-decoration-thickness: initial; text-decoration-style: initial; text-decoration-color: initial; line-height: 1.38;\\\" dir=\\\"ltr\\\"><span style=\\\"font-family: Arial, Helvetica, sans-serif; box-sizing: border-box;\\\"><br style=\\\"box-sizing: border-box;\\\"></span></p><p style=\\\"box-sizing: border-box; margin: 0pt 0px; color: rgb(0, 0, 0); font-family: sans-serif; font-size: 14px; font-style: normal; font-variant-ligatures: normal; font-variant-caps: normal; font-weight: 400; letter-spacing: normal; orphans: 2; text-align: left; text-indent: 0px; text-transform: none; widows: 2; word-spacing: 0px; -webkit-text-stroke-width: 0px; white-space: normal; background-color: rgb(255, 255, 255); text-decoration-thickness: initial; text-decoration-style: initial; text-decoration-color: initial; line-height: 1.38;\\\" dir=\\\"ltr\\\"><span style=\\\"font-family: Arial, Helvetica, sans-serif; box-sizing: border-box;\\\">Il me semble que vous \\u00eates en charge du volet formation pour Ecole centrale de Nantes, connaissez-vous leur impact ?&nbsp;</span></p><p style=\\\"box-sizing: border-box; margin: 0pt 0px; color: rgb(0, 0, 0); font-family: sans-serif; font-size: 14px; font-style: normal; font-variant-ligatures: normal; font-variant-caps: normal; font-weight: 400; letter-spacing: normal; orphans: 2; text-align: left; text-indent: 0px; text-transform: none; widows: 2; word-spacing: 0px; -webkit-text-stroke-width: 0px; white-space: normal; background-color: rgb(255, 255, 255); text-decoration-thickness: initial; text-decoration-style: initial; text-decoration-color: initial; line-height: 1.38;\\\" dir=\\\"ltr\\\"><span style=\\\"font-family: Arial, Helvetica, sans-serif; box-sizing: border-box;\\\">Les formations en entreprises se multiplient, mais sont rarement m\\u00e9moris\\u00e9es ou transform\\u00e9es en comp\\u00e9tences actionnables.</span></p><p style=\\\"box-sizing: border-box; margin: 0pt 0px; color: rgb(0, 0, 0); font-family: sans-serif; font-size: 14px; font-style: normal; font-variant-ligatures: normal; font-variant-caps: normal; font-weight: 400; letter-spacing: normal; orphans: 2; text-align: left; text-indent: 0px; text-transform: none; widows: 2; word-spacing: 0px; -webkit-text-stroke-width: 0px; white-space: normal; background-color: rgb(255, 255, 255); text-decoration-thickness: initial; text-decoration-style: initial; text-decoration-color: initial; line-height: 1.38;\\\" dir=\\\"ltr\\\"><span style=\\\"font-family: Arial, Helvetica, sans-serif; box-sizing: border-box;\\\"><br style=\\\"box-sizing: border-box;\\\"></span></p><p style=\\\"box-sizing: border-box; margin: 0pt 0px; color: rgb(0, 0, 0); font-family: sans-serif; font-size: 14px; font-style: normal; font-variant-ligatures: normal; font-variant-caps: normal; font-weight: 400; letter-spacing: normal; orphans: 2; text-align: left; text-indent: 0px; text-transform: none; widows: 2; word-spacing: 0px; -webkit-text-stroke-width: 0px; white-space: normal; background-color: rgb(255, 255, 255); text-decoration-thickness: initial; text-decoration-style: initial; text-decoration-color: initial; line-height: 1.38;\\\" dir=\\\"ltr\\\"><span style=\\\"font-family: Arial, Helvetica, sans-serif; box-sizing: border-box;\\\">Je m\\u2019appelle Tom et je travaille chez <a target=\\\"_blank\\\" style=\\\"box-sizing: border-box; color: rgb(51, 138, 241); text-decoration: none; background-color: transparent; font-weight: 500; user-select: auto;\\\" rel=\\\"noopener noreferrer\\\" href=\\\"https://www.didask.com/didask-pour/entreprise\\\">Didask</a>, plateforme de conception et de diffusion de formations impactantes.&nbsp;</span></p><p style=\\\"box-sizing: border-box; margin: 0pt 0px; color: rgb(0, 0, 0); font-family: sans-serif; font-size: 14px; font-style: normal; font-variant-ligatures: normal; font-variant-caps: normal; font-weight: 400; letter-spacing: normal; orphans: 2; text-align: left; text-indent: 0px; text-transform: none; widows: 2; word-spacing: 0px; -webkit-text-stroke-width: 0px; white-space: normal; background-color: rgb(255, 255, 255); text-decoration-thickness: initial; text-decoration-style: initial; text-decoration-color: initial; line-height: 1.38;\\\" dir=\\\"ltr\\\"><span style=\\\"font-family: Arial, Helvetica, sans-serif; box-sizing: border-box;\\\"><strong style=\\\"box-sizing: border-box; font-weight: 700;\\\">Nos chercheurs en sciences cognitives d\\u00e9veloppent une IA qui g\\u00e9n\\u00e8re automatiquement \\u00e0 partir de votre expertise des formations personnalis\\u00e9es, impactantes et a fortiori orient\\u00e9es ROI.</strong></span></p><p style=\\\"box-sizing: border-box; margin: 0pt 0px; color: rgb(0, 0, 0); font-family: sans-serif; font-size: 14px; font-style: normal; font-variant-ligatures: normal; font-variant-caps: normal; font-weight: 400; letter-spacing: normal; orphans: 2; text-align: left; text-indent: 0px; text-transform: none; widows: 2; word-spacing: 0px; -webkit-text-stroke-width: 0px; white-space: normal; background-color: rgb(255, 255, 255); text-decoration-thickness: initial; text-decoration-style: initial; text-decoration-color: initial; line-height: 1.38;\\\" dir=\\\"ltr\\\"><span style=\\\"font-family: Arial, Helvetica, sans-serif; box-sizing: border-box;\\\"><br style=\\\"box-sizing: border-box;\\\"></span></p><p style=\\\"box-sizing: border-box; margin: 0pt 0px; color: rgb(0, 0, 0); font-family: sans-serif; font-size: 14px; font-style: normal; font-variant-ligatures: normal; font-variant-caps: normal; font-weight: 400; letter-spacing: normal; orphans: 2; text-align: left; text-indent: 0px; text-transform: none; widows: 2; word-spacing: 0px; -webkit-text-stroke-width: 0px; white-space: normal; background-color: rgb(255, 255, 255); text-decoration-thickness: initial; text-decoration-style: initial; text-decoration-color: initial; line-height: 1.38;\\\" dir=\\\"ltr\\\"><span style=\\\"font-family: Arial, Helvetica, sans-serif; box-sizing: border-box;\\\">Seriez-vous disponible pour une rapide d\\u00e9monstration du LMS Didask, 15 min mardi par exemple ? (sinon vous pouvez <a target=\\\"_blank\\\" style=\\\"box-sizing: border-box; color: rgb(0, 123, 255); text-decoration: underline; background-color: rgb(255, 255, 255); font-weight: 400; user-select: auto; font-family: sans-serif; font-size: 14px; font-style: normal; font-variant-ligatures: normal; font-variant-caps: normal; letter-spacing: normal; orphans: 2; text-align: left; text-indent: 0px; text-transform: none; white-space: normal; widows: 2; word-spacing: 0px; -webkit-text-stroke-width: 0px;\\\" rel=\\\"noopener noreferrer\\\" href=\\\"https://didask.na.chilipiper.com/book/me/tom-vincent\\\">prendre rendez-vous dans mon agenda</a> \\ud83d\\udcc5)</span></p><p style=\\\"box-sizing: border-box; margin: 0px 0px 1rem; font-family: sans-serif; font-size: 14px; font-style: normal; font-variant-ligatures: normal; font-variant-caps: normal; font-weight: 400; letter-spacing: normal; orphans: 2; text-align: left; text-indent: 0px; text-transform: none; widows: 2; word-spacing: 0px; -webkit-text-stroke-width: 0px; white-space: normal; text-decoration-thickness: initial; text-decoration-style: initial; text-decoration-color: initial; color: rgb(65, 65, 65); background-color: rgb(255, 255, 255);\\\"><span style=\\\"font-family: Arial, Helvetica, sans-serif; box-sizing: border-box;\\\"></span></p><p style=\\\"box-sizing: border-box; margin: 0pt 0px; color: rgb(0, 0, 0); font-family: sans-serif; font-size: 14px; font-style: normal; font-variant-ligatures: normal; font-variant-caps: normal; font-weight: 400; letter-spacing: normal; orphans: 2; text-align: left; text-indent: 0px; text-transform: none; widows: 2; word-spacing: 0px; -webkit-text-stroke-width: 0px; white-space: normal; background-color: rgb(255, 255, 255); text-decoration-thickness: initial; text-decoration-style: initial; text-decoration-color: initial; line-height: 1.38;\\\" dir=\\\"ltr\\\"><span style=\\\"font-family: Arial, Helvetica, sans-serif; box-sizing: border-box;\\\">NB: Retrouvez le t\\u00e9moignage de nos clients ici : <a target=\\\"_blank\\\" style=\\\"box-sizing: border-box; color: rgb(51, 138, 241); text-decoration: none; background-color: transparent; font-weight: 500; user-select: auto;\\\" rel=\\\"noopener noreferrer\\\" href=\\\"https://www.didask.com/temoignages\\\">https://www.didask.com/temoignages</a></span></p><span style=\\\"font-family: Arial, Helvetica, sans-serif; box-sizing: border-box;\\\"><br style=\\\"box-sizing: border-box; color: rgb(0, 0, 0); font-family: sans-serif; font-size: 14px; font-style: normal; font-variant-ligatures: normal; font-variant-caps: normal; font-weight: 400; letter-spacing: normal; orphans: 2; text-align: left; text-indent: 0px; text-transform: none; widows: 2; word-spacing: 0px; -webkit-text-stroke-width: 0px; white-space: normal; background-color: rgb(255, 255, 255); text-decoration-thickness: initial; text-decoration-style: initial; text-decoration-color: initial;\\\"></span><p style=\\\"box-sizing: border-box; margin: 0pt 0px; color: rgb(0, 0, 0); font-family: sans-serif; font-size: 14px; font-style: normal; font-variant-ligatures: normal; font-variant-caps: normal; font-weight: 400; letter-spacing: normal; orphans: 2; text-align: left; text-indent: 0px; text-transform: none; widows: 2; word-spacing: 0px; -webkit-text-stroke-width: 0px; white-space: normal; background-color: rgb(255, 255, 255); text-decoration-thickness: initial; text-decoration-style: initial; text-decoration-color: initial; line-height: 1.38;\\\" dir=\\\"ltr\\\"><span style=\\\"font-family: Arial, Helvetica, sans-serif; box-sizing: border-box;\\\">Excellente journ\\u00e9e !</span></p><p style=\\\"box-sizing: border-box; margin: 0pt 0px; color: rgb(0, 0, 0); font-family: sans-serif; font-size: 14px; font-style: normal; font-variant-ligatures: normal; font-variant-caps: normal; font-weight: 400; letter-spacing: normal; orphans: 2; text-align: left; text-indent: 0px; text-transform: none; widows: 2; word-spacing: 0px; -webkit-text-stroke-width: 0px; white-space: normal; background-color: rgb(255, 255, 255); text-decoration-thickness: initial; text-decoration-style: initial; text-decoration-color: initial; line-height: 1.38;\\\" dir=\\\"ltr\\\"><span style=\\\"font-family: Arial, Helvetica, sans-serif; box-sizing: border-box;\\\"><br style=\\\"box-sizing: border-box;\\\"></span></p><p style=\\\"box-sizing: border-box; margin: 0pt 0px; color: rgb(0, 0, 0); font-family: sans-serif; font-size: 14px; font-style: normal; font-variant-ligatures: normal; font-variant-caps: normal; font-weight: 400; letter-spacing: normal; orphans: 2; text-align: left; text-indent: 0px; text-transform: none; widows: 2; word-spacing: 0px; -webkit-text-stroke-width: 0px; white-space: normal; background-color: rgb(255, 255, 255); text-decoration-thickness: initial; text-decoration-style: initial; text-decoration-color: initial; line-height: 1.38;\\\" dir=\\\"ltr\\\"><span style=\\\"font-family: Arial, Helvetica, sans-serif; box-sizing: border-box;\\\"><p fr-original-style=\\\"\\\" style=\\\"margin: 0px; box-sizing: border-box;\\\"><br fr-original-style=\\\"\\\" style=\\\"box-sizing: border-box;\\\"><strong fr-original-style=\\\"\\\" style=\\\"font-weight: 700; box-sizing: border-box;\\\">Tom VINCENT</strong><br fr-original-style=\\\"\\\" style=\\\"box-sizing: border-box;\\\">Business Developer</p><p fr-original-style=\\\"\\\" style=\\\"margin: 0px; box-sizing: border-box;\\\">07.52.63.62.40<br fr-original-style=\\\"\\\" style=\\\"box-sizing: border-box;\\\"><br fr-original-style=\\\"\\\" style=\\\"box-sizing: border-box;\\\">La Learning Transformation Plateform est en marche ! T&eacute;l&eacute;chargez notre dernier livre blanc \\ud83d\\udc49\\ud83c\\udffc <a fr-original-style=\\\"\\\" href=\\\"https://www.didask.com/livre-blanc-learning-transformation-platform\\\" style=\\\"color: rgb(51, 138, 241); text-decoration: none; background-color: transparent; user-select: auto; box-sizing: border-box; font-weight: 500;\\\" target=\\\"_blank\\\">ICI</a></p><p fr-original-style=\\\"\\\" style=\\\"margin: 0px; box-sizing: border-box;\\\">\\ud83d\\uddd3\\ufe0f <a fr-original-style=\\\"\\\" href=\\\"https://didask.na.chilipiper.com/book/me/tom-vincent\\\" style=\\\"color: rgb(51, 138, 241); text-decoration: none; background-color: transparent; user-select: auto; box-sizing: border-box; font-weight: 500;\\\" target=\\\"_blank\\\">Prendre rendez-vous&nbsp;</a>\\ud83d\\uddd3\\ufe0f</p><p fr-original-style=\\\"\\\" style=\\\"margin: 0px; box-sizing: border-box;\\\"><br fr-original-style=\\\"\\\" style=\\\"box-sizing: border-box;\\\"><a fr-original-style=\\\"\\\" href=\\\"mailto:Tom.vincent@didask.net\\\" style=\\\"color: rgb(51, 138, 241); text-decoration: none; background-color: transparent; user-select: auto; box-sizing: border-box; font-weight: 500;\\\" target=\\\"_blank\\\">Tom.vincent@didask.net</a></p><p fr-original-style=\\\"\\\" style=\\\"margin: 0px; box-sizing: border-box;\\\"><a fr-original-style=\\\"\\\" href=\\\"https://didask.com/\\\" style=\\\"color: rgb(51, 138, 241); text-decoration: none; background-color: transparent; user-select: auto; box-sizing: border-box; font-weight: 500;\\\" target=\\\"_blank\\\">didask.com</a></p><p fr-original-style=\\\"\\\" style=\\\"margin: 0px; box-sizing: border-box;\\\">60B rue Sadi Carnot, 93170 Bagnolet</p><p fr-original-style=\\\"\\\" style=\\\"margin: 0px; box-sizing: border-box;\\\"><br fr-original-style=\\\"\\\" style=\\\"box-sizing: border-box;\\\"><img src=\\\"https://trail.didask.net/api/files/Files/fil_GJxErENL5ZLB9jwjA.png\\\" width=\\\"200\\\"  fr-original-style=\\\"\\\" fr-original-class=\\\"fr-draggable\\\" style=\\\"vertical-align: middle; border-style: none; cursor: pointer; padding: 0px 1px; box-sizing: border-box;\\\"></p><p fr-original-style=\\\"\\\" style=\\\"margin: 0px; box-sizing: border-box;\\\"><br fr-original-style=\\\"\\\" style=\\\"box-sizing: border-box;\\\"></p><img src=\\\"https://trail.didask.net/api/files/Files/fil_mZ2B36eyNEcvXoQnY.png\\\" width=\\\"420\\\"  fr-original-style=\\\"\\\" fr-original-class=\\\"fr-draggable\\\" style=\\\"vertical-align: middle; border-style: none; cursor: pointer; padding: 0px 1px; box-sizing: border-box;\\\"><p fr-original-style=\\\"\\\" style=\\\"margin: 0px; box-sizing: border-box;\\\"></p></span></p>\"}))\n",
       "        });</script>\n",
       "        "
      ],
      "text/plain": [
       "<IPython.core.display.HTML object>"
      ]
     },
     "metadata": {},
     "output_type": "display_data"
    }
   ],
   "source": [
    "i = random.randint(0, len(df))\n",
    "col_name = \"metadata\"\n",
    "print(i)\n",
    "obj = json.loads(df[col_name].iloc[i])\n",
    "print(f'number of properties: {len(list(obj.keys()))}')\n",
    "_ = RenderJSON(obj)\n"
   ]
  },
  {
   "cell_type": "code",
   "execution_count": 24,
   "metadata": {},
   "outputs": [
    {
     "data": {
      "text/html": [
       "<div id=\"a1b434fc-7801-48bf-8d40-7e8e3d10290e\" style=\"height: auto; width:100%;\"></div>"
      ],
      "text/plain": [
       "<IPython.core.display.HTML object>"
      ]
     },
     "metadata": {},
     "output_type": "display_data"
    },
    {
     "data": {
      "text/html": [
       "<script>\n",
       "        require([\"https://rawgit.com/caldwell/renderjson/master/renderjson.js\"], function() {\n",
       "          renderjson.set_show_to_level(1)\n",
       "          document.getElementById('a1b434fc-7801-48bf-8d40-7e8e3d10290e').appendChild(renderjson({\"completionDate\": 1638457233903, \"forObjectType\": \"CONTACT\", \"isAllDay\": false, \"priority\": \"NONE\", \"reminders\": [], \"sendDefaultReminder\": false, \"status\": \"COMPLETED\", \"subject\": \"Appeler la personne qui \\u00e0 t\\u00e9l\\u00e9charg\\u00e9 livre vert\", \"taskType\": \"TODO\"}))\n",
       "        });</script>\n",
       "        "
      ],
      "text/plain": [
       "<IPython.core.display.HTML object>"
      ]
     },
     "metadata": {},
     "output_type": "display_data"
    }
   ],
   "source": []
  },
  {
   "cell_type": "code",
   "execution_count": null,
   "metadata": {},
   "outputs": [],
   "source": []
  }
 ],
 "metadata": {
  "kernelspec": {
   "display_name": "pydidask",
   "language": "python",
   "name": "python3"
  },
  "language_info": {
   "codemirror_mode": {
    "name": "ipython",
    "version": 3
   },
   "file_extension": ".py",
   "mimetype": "text/x-python",
   "name": "python",
   "nbconvert_exporter": "python",
   "pygments_lexer": "ipython3",
   "version": "3.12.0"
  }
 },
 "nbformat": 4,
 "nbformat_minor": 2
}
