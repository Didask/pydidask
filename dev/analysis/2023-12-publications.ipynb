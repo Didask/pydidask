{
 "cells": [
  {
   "cell_type": "markdown",
   "metadata": {},
   "source": [
    "# Statistiques d'utilisation des `publications`"
   ]
  },
  {
   "cell_type": "markdown",
   "metadata": {},
   "source": [
    "- last_update: 2023-11-27"
   ]
  },
  {
   "cell_type": "markdown",
   "metadata": {},
   "source": [
    "## objectif"
   ]
  },
  {
   "cell_type": "markdown",
   "metadata": {},
   "source": [
    "Comprendre l'utilisation des publications par nos clients."
   ]
  },
  {
   "cell_type": "markdown",
   "metadata": {},
   "source": [
    "## TLDR"
   ]
  },
  {
   "cell_type": "markdown",
   "metadata": {},
   "source": [
    "## setup"
   ]
  },
  {
   "cell_type": "code",
   "execution_count": 2,
   "metadata": {},
   "outputs": [
    {
     "ename": "ImportError",
     "evalue": "attempted relative import with no known parent package",
     "output_type": "error",
     "traceback": [
      "\u001b[0;31m---------------------------------------------------------------------------\u001b[0m",
      "\u001b[0;31mImportError\u001b[0m                               Traceback (most recent call last)",
      "Cell \u001b[0;32mIn[2], line 2\u001b[0m\n\u001b[1;32m      1\u001b[0m \u001b[38;5;28;01mfrom\u001b[39;00m \u001b[38;5;21;01mpymongo\u001b[39;00m\u001b[38;5;21;01m.\u001b[39;00m\u001b[38;5;21;01mmongo_client\u001b[39;00m \u001b[38;5;28;01mimport\u001b[39;00m MongoClient\n\u001b[0;32m----> 2\u001b[0m \u001b[38;5;28;01mfrom\u001b[39;00m \u001b[38;5;21;01m.\u001b[39;00m\u001b[38;5;21;01m.\u001b[39;00m\u001b[38;5;21;01mutils\u001b[39;00m \u001b[38;5;28;01mimport\u001b[39;00m test_mongo_client, list_dbs, pull_db, RenderJSON\n\u001b[1;32m      3\u001b[0m \u001b[38;5;28;01mfrom\u001b[39;00m \u001b[38;5;21;01mutils\u001b[39;00m \u001b[38;5;28;01mimport\u001b[39;00m URI_CLUSTER_LOCAL, URI_CLUSTER_PROD\n\u001b[1;32m      4\u001b[0m \u001b[38;5;28;01mimport\u001b[39;00m \u001b[38;5;21;01mpandas\u001b[39;00m \u001b[38;5;28;01mas\u001b[39;00m \u001b[38;5;21;01mpd\u001b[39;00m\n",
      "\u001b[0;31mImportError\u001b[0m: attempted relative import with no known parent package"
     ]
    }
   ],
   "source": [
    "from pymongo.mongo_client import MongoClient\n",
    "from utils import test_mongo_client, list_dbs, pull_db, RenderJSON\n",
    "from utils import URI_CLUSTER_LOCAL, URI_CLUSTER_PROD\n",
    "import pandas as pd\n",
    "import plotly.express as px\n",
    "import random\n",
    "import seaborn as sns\n",
    "import matplotlib.pyplot as plt\n",
    "from enum import Enum\n",
    "\n",
    "import plotly.express as px\n",
    "\n",
    "## launch local instance mongodb\n",
    "# launch-local-mongodb.sh"
   ]
  },
  {
   "cell_type": "code",
   "execution_count": null,
   "metadata": {},
   "outputs": [],
   "source": []
  },
  {
   "cell_type": "code",
   "execution_count": null,
   "metadata": {},
   "outputs": [],
   "source": [
    "## create mongo local client\n",
    "client_local = MongoClient(URI_CLUSTER_LOCAL)\n",
    "test_mongo_client(client_local)\n",
    "\n",
    "#client_prod = MongoClient(URI_CLUSTER_PROD)\n",
    "#test_mongo_client(client_prod)\n",
    "\n",
    "client = client_local"
   ]
  },
  {
   "cell_type": "code",
   "execution_count": null,
   "metadata": {},
   "outputs": [],
   "source": [
    "## refresh databases\n",
    "#_ = pull_db(URI_CLUSTER_PROD, URI_CLUSTER_LOCAL, \"org_afev\")"
   ]
  },
  {
   "cell_type": "code",
   "execution_count": null,
   "metadata": {},
   "outputs": [],
   "source": [
    "db_name = \"org_amnesty\"\n",
    "#db_name = \"org_albioma\"\n",
    "#pubs = get_pub(client, db_name)\n",
    "#len(pubs)"
   ]
  },
  {
   "cell_type": "code",
   "execution_count": null,
   "metadata": {},
   "outputs": [],
   "source": [
    "db_org = [d[\"name\"] for d in list_dbs(client) if d[\"name\"].startswith(\"org_\")]\n",
    "\n",
    "all_pubs = list()\n",
    "for db_name in db_org:\n",
    "    all_pubs += get_pubs(client, db_name)\n",
    "pub_course = [p for p in all_pubs if is_pub_category(p, PUB_TYPE.COURSE)]\n",
    "pub_adaptive = [p for p in all_pubs if is_pub_category(p, PUB_TYPE.ADAPTIVE)]\n",
    "pub_single_module = [p for p in all_pubs if is_pub_category(p, PUB_TYPE.SINGLE_MODULE)]"
   ]
  },
  {
   "cell_type": "markdown",
   "metadata": {},
   "source": [
    "## analyse"
   ]
  },
  {
   "cell_type": "markdown",
   "metadata": {},
   "source": [
    "#### quel est le nombre total d'espace client ?"
   ]
  },
  {
   "cell_type": "code",
   "execution_count": null,
   "metadata": {},
   "outputs": [],
   "source": [
    "nb_db_org = len(db_org)\n",
    "print(f\"Nombre d'espaces client: {nb_db_org}\")"
   ]
  },
  {
   "cell_type": "markdown",
   "metadata": {},
   "source": [
    "#### quel est le nombre total de publications ?"
   ]
  },
  {
   "cell_type": "code",
   "execution_count": null,
   "metadata": {},
   "outputs": [],
   "source": [
    "all_pubs = list()\n",
    "for db_name in db_org:\n",
    "    all_pubs += get_pubs(client, db_name)\n",
    "\n",
    "nb_pub = len(all_pubs)\n",
    "print(f\"total number of publications: {nb_pub}\")"
   ]
  },
  {
   "cell_type": "markdown",
   "metadata": {},
   "source": [
    "### Types de publication"
   ]
  },
  {
   "cell_type": "code",
   "execution_count": null,
   "metadata": {},
   "outputs": [],
   "source": [
    "all_pub_type = [get_pub_type(p) for p in all_pubs]\n",
    "all_pub_type = pd.Series(all_pub_type)\n",
    "dist_pub_type = all_pub_type.value_counts().to_frame().reset_index(names=\"pub_type\")"
   ]
  },
  {
   "cell_type": "markdown",
   "metadata": {},
   "source": [
    "#### quel types de publications est-ce que Didask propose ?"
   ]
  },
  {
   "cell_type": "code",
   "execution_count": null,
   "metadata": {},
   "outputs": [],
   "source": [
    "print(\"types de publications:\")\n",
    "for e in all_pub_type.unique():\n",
    "    print(f\"- {e}\")"
   ]
  },
  {
   "cell_type": "markdown",
   "metadata": {},
   "source": [
    "#### quelle est la distribution des publications par type ?"
   ]
  },
  {
   "cell_type": "code",
   "execution_count": null,
   "metadata": {},
   "outputs": [],
   "source": [
    "dist_pub_type[\"pct\"] = dist_pub_type[\"count\"]/dist_pub_type[\"count\"].sum()"
   ]
  },
  {
   "cell_type": "code",
   "execution_count": null,
   "metadata": {},
   "outputs": [],
   "source": [
    "dist_pub_type"
   ]
  },
  {
   "cell_type": "code",
   "execution_count": null,
   "metadata": {},
   "outputs": [],
   "source": [
    "ccc = dist_pub_type[\"pub_type\"]\n",
    "vvv = dist_pub_type[\"pct\"]*100\n",
    "ccc = [c.split(\".\")[1] for c in ccc]\n",
    "plot_proportion_bar(cats=ccc, vals=vvv, title=\"Types de publication\", is_pct=True, show_legend=False)"
   ]
  },
  {
   "cell_type": "markdown",
   "metadata": {},
   "source": [
    "### mode de diffusion"
   ]
  },
  {
   "cell_type": "markdown",
   "metadata": {},
   "source": [
    "- Les chiffres qui suivent sont restreints aux publications de type `Course`"
   ]
  },
  {
   "cell_type": "markdown",
   "metadata": {},
   "source": [
    "#### quels sont les modes de diffusions possibles ?"
   ]
  },
  {
   "cell_type": "code",
   "execution_count": null,
   "metadata": {},
   "outputs": [],
   "source": [
    "diff_modes = pd.Series([p[\"diffusionMode\"] for p in pub_course if (\"diffusionMode\" in p)])\n",
    "print(\"modes de diffusion:\")\n",
    "for dm in diff_modes.unique():\n",
    "    print(f\"- {dm}\")"
   ]
  },
  {
   "cell_type": "markdown",
   "metadata": {},
   "source": [
    "#### quelle est la distribution par mode de diffusion ?"
   ]
  },
  {
   "cell_type": "code",
   "execution_count": null,
   "metadata": {},
   "outputs": [],
   "source": [
    "df_diff_modes = diff_modes.value_counts().to_frame()\n",
    "df_diff_modes[\"pct\"] = df_diff_modes[\"count\"]/df_diff_modes[\"count\"].sum()*100\n",
    "df_diff_modes = df_diff_modes.reset_index(names='mode')\n",
    "df_diff_modes\n",
    "#df_diff_modes = df_diff_modes.melt(id_vars = \"mode\")\n"
   ]
  },
  {
   "cell_type": "code",
   "execution_count": null,
   "metadata": {},
   "outputs": [],
   "source": [
    "cats = df_diff_modes[\"mode\"]\n",
    "vals = df_diff_modes[\"pct\"]\n",
    "title = \"Mode de diffusion des publications\"\n",
    "is_pct = True\n",
    "show_legend = False\n",
    "plot_proportion_bar(cats=cats, vals=vals, title=title, is_pct=is_pct, show_legend=show_legend)"
   ]
  }
 ],
 "metadata": {
  "kernelspec": {
   "display_name": "pydidask",
   "language": "python",
   "name": "python3"
  },
  "language_info": {
   "codemirror_mode": {
    "name": "ipython",
    "version": 3
   },
   "file_extension": ".py",
   "mimetype": "text/x-python",
   "name": "python",
   "nbconvert_exporter": "python",
   "pygments_lexer": "ipython3",
   "version": "3.12.0"
  }
 },
 "nbformat": 4,
 "nbformat_minor": 2
}
