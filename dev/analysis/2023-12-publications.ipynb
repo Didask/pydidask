{
 "cells": [
  {
   "cell_type": "markdown",
   "metadata": {},
   "source": [
    "# Statistiques d'utilisation des `publications`"
   ]
  },
  {
   "cell_type": "markdown",
   "metadata": {},
   "source": [
    "- last_update: 2023-11-27"
   ]
  },
  {
   "cell_type": "markdown",
   "metadata": {},
   "source": [
    "## objectif"
   ]
  },
  {
   "cell_type": "markdown",
   "metadata": {},
   "source": [
    "Comprendre l'utilisation des publications par nos clients."
   ]
  },
  {
   "cell_type": "markdown",
   "metadata": {},
   "source": [
    "## TLDR"
   ]
  },
  {
   "cell_type": "markdown",
   "metadata": {},
   "source": [
    "## setup"
   ]
  },
  {
   "cell_type": "code",
   "execution_count": null,
   "metadata": {},
   "outputs": [],
   "source": [
    "from pymongo.mongo_client import MongoClient\n",
    "from utils import test_mongo_client, list_dbs, pull_db, RenderJSON\n",
    "from utils import URI_CLUSTER_LOCAL, URI_CLUSTER_PROD\n",
    "import pandas as pd\n",
    "import plotly.express as px\n",
    "import random\n",
    "import seaborn as sns\n",
    "import matplotlib.pyplot as plt\n",
    "from enum import Enum\n",
    "\n",
    "import plotly.express as px\n",
    "\n",
    "## launch local instance mongodb\n",
    "# launch-local-mongodb.sh"
   ]
  },
  {
   "cell_type": "code",
   "execution_count": null,
   "metadata": {},
   "outputs": [],
   "source": [
    "COLL_PUBLICATIONS = \"course\"\n",
    "\n",
    "class PUB_TYPE(Enum):\n",
    "    COURSE = \"Publication.Course\"\n",
    "    SINGLE_MODULE = \"Publication.SingleModule\"\n",
    "    ADAPTIVE = \"Publication.Adaptive\"\n",
    " \n",
    "def get_pubs(client, db_name):\n",
    "    # input: db_name\n",
    "    # output: list of all publication\n",
    "    res = list(client[db_name][COLL_PUBLICATIONS].find({}))\n",
    "    for pub in res:\n",
    "        pub[\"db_name\"] = db_name\n",
    "    return res\n",
    "\n",
    "def get_pub_type(pub):\n",
    "    # input: list of publications (dict)\n",
    "    # the publication type \n",
    "    return pub[\"_cls\"]\n",
    "\n",
    "def get_pub_name(pub):\n",
    "    # input: list of publications (dict)\n",
    "    # the publication type \n",
    "    return pub[\"name\"]\n",
    "\n",
    "\n",
    "def is_pub_category(pub, cat: PUB_TYPE):\n",
    "    return pub[\"_cls\"] == cat.value\n",
    "\n",
    "\n",
    "def get_pub_chapters(pub):\n",
    "    # input: list of publications (dict)\n",
    "    # the publication type\n",
    "    return \n",
    "\n",
    "def get_pub_modules(pub):\n",
    "    # input: list of publications (dict)\n",
    "    # the publication type \n",
    "    modules = list()\n",
    "\n",
    "\n",
    "def cast_to_string(obj):\n",
    "    if isinstance(obj, dict):\n",
    "        return {key: cast_to_string(value) for key, value in obj.items()}\n",
    "    elif isinstance(obj, list):\n",
    "        return [cast_to_string(item) for item in obj]\n",
    "    else:\n",
    "        return str(obj)\n",
    "\n",
    "def render_json(d, return_res=False):\n",
    "    e = cast_to_string(d)\n",
    "    r = RenderJSON(e)\n",
    "    if return_res: return r\n",
    "\n",
    "def render_json_random(l):\n",
    "    i = random.choice(range(len(l)))\n",
    "    render_json(l[i])\n",
    "\n",
    "\n",
    "from pywaffle import Waffle\n",
    "\n",
    "def plot_waffle(cats, vals, title, is_pct):\n",
    "    pal_ = list(sns.color_palette(palette='plasma_r',\n",
    "                              n_colors=len(cats)).as_hex())\n",
    "\n",
    "    fig = plt.figure(FigureClass=Waffle, \n",
    "                    rows=20, columns=50,\n",
    "                    values=vals, \n",
    "                    colors=pal_,\n",
    "                    labels=[f\"{c} ({str(round(v))+' %'*is_pct})\" for (c,v) in zip(cats, vals)],\n",
    "                    figsize = (15,6),\n",
    "                    legend={'loc':'upper right',\n",
    "                            'fontsize': 15\n",
    "                            })\n",
    "    plt.title(title, fontsize = 20, pad=20)\n",
    "    plt.tight_layout()\n",
    "    plt.show()\n",
    "\n",
    "\n",
    "def plot_treemap(cats, vals, title, is_pct=False):\n",
    "    fig = px.treemap(\n",
    "        names = [f\"{c} ({round(v)}{\" %\"*is_pct})\" for (c,v) in zip(cats, vals)],\n",
    "        parents = [\"\"]*len(cats),\n",
    "        values=vals\n",
    ")\n",
    "    fig.update_traces(root_color=\"white\", textposition = 'middle center', legend=\"legend\")\n",
    "    fig.update_layout(title=title, margin = dict(t=50, l=25, r=25, b=25), font=dict(size=20), title_x=0.5, title_y=0.95)\n",
    "\n",
    "    fig.update_layout(showlegend=True)\n",
    "    fig.show()\n",
    "\n",
    "\n",
    "def plot_proportion_bar(cats, vals, title, is_pct=False, show_legend=True):\n",
    "    txt = [f\"{c} ({str(round(v)) + is_pct*' %'})\"for (c,v) in zip(cats, vals)]\n",
    "    fig = px.bar(y=[\"\"]*len(cats), x=vals, color=cats, orientation=\"h\", text=txt)\n",
    "    fig.update_layout(paper_bgcolor='white', plot_bgcolor='white')\n",
    "    fig.update_xaxes(visible=False, showticklabels=False)\n",
    "    fig.update_yaxes(visible=False, showticklabels=False)\n",
    "    fig.update_layout(title=dict(text=title, font=dict(size=30), x=0.4, y=0.95))\n",
    "    fig.update_layout(legend_title=None, showlegend=show_legend)\n",
    "    fig.update_traces(insidetextanchor=\"middle\")\n",
    "    fig.update_traces(width=0.5)\n",
    "    fig.show()\n"
   ]
  },
  {
   "cell_type": "code",
   "execution_count": null,
   "metadata": {},
   "outputs": [],
   "source": [
    "## create mongo local client\n",
    "client_local = MongoClient(URI_CLUSTER_LOCAL)\n",
    "test_mongo_client(client_local)\n",
    "\n",
    "#client_prod = MongoClient(URI_CLUSTER_PROD)\n",
    "#test_mongo_client(client_prod)\n",
    "\n",
    "client = client_local"
   ]
  },
  {
   "cell_type": "code",
   "execution_count": null,
   "metadata": {},
   "outputs": [],
   "source": [
    "## refresh databases\n",
    "#_ = pull_db(URI_CLUSTER_PROD, URI_CLUSTER_LOCAL, \"org_afev\")"
   ]
  },
  {
   "cell_type": "code",
   "execution_count": null,
   "metadata": {},
   "outputs": [],
   "source": [
    "db_name = \"org_amnesty\"\n",
    "#db_name = \"org_albioma\"\n",
    "#pubs = get_pub(client, db_name)\n",
    "#len(pubs)"
   ]
  },
  {
   "cell_type": "code",
   "execution_count": null,
   "metadata": {},
   "outputs": [],
   "source": [
    "db_org = [d[\"name\"] for d in list_dbs(client) if d[\"name\"].startswith(\"org_\")]\n",
    "\n",
    "all_pubs = list()\n",
    "for db_name in db_org:\n",
    "    all_pubs += get_pubs(client, db_name)\n",
    "pub_course = [p for p in all_pubs if is_pub_category(p, PUB_TYPE.COURSE)]\n",
    "pub_adaptive = [p for p in all_pubs if is_pub_category(p, PUB_TYPE.ADAPTIVE)]\n",
    "pub_single_module = [p for p in all_pubs if is_pub_category(p, PUB_TYPE.SINGLE_MODULE)]"
   ]
  },
  {
   "cell_type": "markdown",
   "metadata": {},
   "source": [
    "## analyse"
   ]
  },
  {
   "cell_type": "markdown",
   "metadata": {},
   "source": [
    "#### quel est le nombre total d'espace client ?"
   ]
  },
  {
   "cell_type": "code",
   "execution_count": null,
   "metadata": {},
   "outputs": [],
   "source": [
    "nb_db_org = len(db_org)\n",
    "print(f\"Nombre d'espaces client: {nb_db_org}\")"
   ]
  },
  {
   "cell_type": "markdown",
   "metadata": {},
   "source": [
    "#### quel est le nombre total de publications ?"
   ]
  },
  {
   "cell_type": "code",
   "execution_count": null,
   "metadata": {},
   "outputs": [],
   "source": [
    "all_pubs = list()\n",
    "for db_name in db_org:\n",
    "    all_pubs += get_pubs(client, db_name)\n",
    "\n",
    "nb_pub = len(all_pubs)\n",
    "print(f\"total number of publications: {nb_pub}\")"
   ]
  },
  {
   "cell_type": "markdown",
   "metadata": {},
   "source": [
    "### Types de publication"
   ]
  },
  {
   "cell_type": "code",
   "execution_count": null,
   "metadata": {},
   "outputs": [],
   "source": [
    "all_pub_type = [get_pub_type(p) for p in all_pubs]\n",
    "all_pub_type = pd.Series(all_pub_type)\n",
    "dist_pub_type = all_pub_type.value_counts().to_frame().reset_index(names=\"pub_type\")"
   ]
  },
  {
   "cell_type": "markdown",
   "metadata": {},
   "source": [
    "#### quel types de publications est-ce que Didask propose ?"
   ]
  },
  {
   "cell_type": "code",
   "execution_count": null,
   "metadata": {},
   "outputs": [],
   "source": [
    "print(\"types de publications:\")\n",
    "for e in all_pub_type.unique():\n",
    "    print(f\"- {e}\")"
   ]
  },
  {
   "cell_type": "markdown",
   "metadata": {},
   "source": [
    "#### quelle est la distribution des publications par type ?"
   ]
  },
  {
   "cell_type": "code",
   "execution_count": null,
   "metadata": {},
   "outputs": [],
   "source": [
    "dist_pub_type[\"pct\"] = dist_pub_type[\"count\"]/dist_pub_type[\"count\"].sum()"
   ]
  },
  {
   "cell_type": "code",
   "execution_count": null,
   "metadata": {},
   "outputs": [],
   "source": [
    "dist_pub_type"
   ]
  },
  {
   "cell_type": "code",
   "execution_count": null,
   "metadata": {},
   "outputs": [],
   "source": [
    "ccc = dist_pub_type[\"pub_type\"]\n",
    "vvv = dist_pub_type[\"pct\"]*100\n",
    "ccc = [c.split(\".\")[1] for c in ccc]\n",
    "plot_proportion_bar(cats=ccc, vals=vvv, title=\"Types de publication\", is_pct=True, show_legend=False)"
   ]
  },
  {
   "cell_type": "markdown",
   "metadata": {},
   "source": [
    "### mode de diffusion"
   ]
  },
  {
   "cell_type": "markdown",
   "metadata": {},
   "source": [
    "- Les chiffres qui suivent sont restreints aux publications de type `Course`"
   ]
  },
  {
   "cell_type": "markdown",
   "metadata": {},
   "source": [
    "#### quels sont les modes de diffusions possibles ?"
   ]
  },
  {
   "cell_type": "code",
   "execution_count": null,
   "metadata": {},
   "outputs": [],
   "source": [
    "diff_modes = pd.Series([p[\"diffusionMode\"] for p in pub_course if (\"diffusionMode\" in p)])\n",
    "print(\"modes de diffusion:\")\n",
    "for dm in diff_modes.unique():\n",
    "    print(f\"- {dm}\")"
   ]
  },
  {
   "cell_type": "markdown",
   "metadata": {},
   "source": [
    "#### quelle est la distribution par mode de diffusion ?"
   ]
  },
  {
   "cell_type": "code",
   "execution_count": null,
   "metadata": {},
   "outputs": [],
   "source": [
    "df_diff_modes = diff_modes.value_counts().to_frame()\n",
    "df_diff_modes[\"pct\"] = df_diff_modes[\"count\"]/df_diff_modes[\"count\"].sum()*100\n",
    "df_diff_modes = df_diff_modes.reset_index(names='mode')\n",
    "df_diff_modes\n",
    "#df_diff_modes = df_diff_modes.melt(id_vars = \"mode\")\n"
   ]
  },
  {
   "cell_type": "code",
   "execution_count": null,
   "metadata": {},
   "outputs": [],
   "source": [
    "cats = df_diff_modes[\"mode\"]\n",
    "vals = df_diff_modes[\"pct\"]\n",
    "title = \"Mode de diffusion des publications\"\n",
    "is_pct = True\n",
    "show_legend = False\n",
    "plot_proportion_bar(cats=cats, vals=vals, title=title, is_pct=is_pct, show_legend=show_legend)"
   ]
  }
 ],
 "metadata": {
  "kernelspec": {
   "display_name": "pydidask",
   "language": "python",
   "name": "python3"
  },
  "language_info": {
   "codemirror_mode": {
    "name": "ipython",
    "version": 3
   },
   "file_extension": ".py",
   "mimetype": "text/x-python",
   "name": "python",
   "nbconvert_exporter": "python",
   "pygments_lexer": "ipython3",
   "version": "3.12.0"
  }
 },
 "nbformat": 4,
 "nbformat_minor": 2
}
