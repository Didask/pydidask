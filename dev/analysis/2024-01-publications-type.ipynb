{
 "cells": [
  {
   "cell_type": "markdown",
   "metadata": {},
   "source": [
    "# Publication types"
   ]
  },
  {
   "cell_type": "code",
   "execution_count": 78,
   "metadata": {},
   "outputs": [],
   "source": [
    "import sys\n",
    "sys.path.append('..')\n",
    "import pandas as pd\n",
    "from datetime import datetime\n",
    "from utils import build_mongo_client, test_mongo_client, get_customers_database_infos, get_pubs, get_pub_type, PUB_TYPE, get_learners_group"
   ]
  },
  {
   "cell_type": "code",
   "execution_count": 79,
   "metadata": {},
   "outputs": [
    {
     "name": "stdout",
     "output_type": "stream",
     "text": [
      "Pinged your deployment. You successfully connected to MongoDB!\n"
     ]
    }
   ],
   "source": [
    "client = build_mongo_client(env=\"production\")\n",
    "test_mongo_client(client)"
   ]
  },
  {
   "cell_type": "code",
   "execution_count": 80,
   "metadata": {},
   "outputs": [
    {
     "name": "stdout",
     "output_type": "stream",
     "text": [
      "number of databases: 184\n"
     ]
    }
   ],
   "source": [
    "customers_info = get_customers_database_infos(client)\n",
    "customers_info_dict = {ci[\"dbName\"]: ci for ci in customers_info}\n",
    "\n",
    "print(f'number of databases: {len(customers_info)}')\n",
    "\n",
    "customers_db_names = [e[\"dbName\"] for e in customers_info]"
   ]
  },
  {
   "cell_type": "markdown",
   "metadata": {},
   "source": [
    "A publication is online if:\n",
    "- accessControl is not null AND \n",
    "   - ( (_cls is equal to SCORMConnect or public) \n",
    "   - OR (_cls is equal to private and the publication is associated to a leaner group with expiration date null or in the future) )"
   ]
  },
  {
   "cell_type": "code",
   "execution_count": 91,
   "metadata": {},
   "outputs": [],
   "source": [
    "## get active learner groups\n",
    "learners_group_all = list()\n",
    "for nm in customers_db_names:\n",
    "    learners_group_all += get_learners_group(client, nm)\n",
    "\n",
    "is_learners_group_active = pd.Series([lg for lg in learners_group_all if ((lg.get(\"expirationDate\", None) is None) or ((lg.get(\"expirationDate\", None) is not None) and (lg[\"expirationDate\"] > datetime.now())))])\n",
    "learners_group_active = [lg for (lg,b) in zip(learners_group_all, is_learners_group_active) if b]\n",
    "\n",
    "## get id of publications associated with an active learning group\n",
    "id_pubs_with_active_learning_group = list()\n",
    "for lg in learners_group_active:\n",
    "    id_pubs_with_active_learning_group += [str(e) for e in lg[\"publications\"]]\n",
    "id_pubs_with_active_learning_group = pd.Series(id_pubs_with_active_learning_group).unique()"
   ]
  },
  {
   "cell_type": "code",
   "execution_count": 92,
   "metadata": {},
   "outputs": [],
   "source": [
    "corresp_name_pub = {e.value: e.name.lower() for e in PUB_TYPE}\n",
    "\n",
    "pubs_stat_list = list()\n",
    "for nm in customers_db_names:\n",
    "    pubs = get_pubs(client, nm)\n",
    "\n",
    "    ## number of publications per type\n",
    "    pubs_stats = pd.Series([get_pub_type(p) for p in pubs]).value_counts().to_dict()\n",
    "    pubs_stats[\"db_name\"] = nm\n",
    "\n",
    "    for k,v in corresp_name_pub.items():\n",
    "        pubs_stats[f\"{v}_nb\"] = pubs_stats.get(k, 0)\n",
    "        if k in pubs_stats:\n",
    "            del pubs_stats[k]\n",
    "\n",
    "    ## 1) date of last create / update for each type of module\n",
    "    ## 2) number of active publications per type\n",
    "    for e in PUB_TYPE:\n",
    "        pub_type = e.value\n",
    "\n",
    "        # 1)\n",
    "        for action in [\"created\", \"updated\"]:\n",
    "            tmp = [(p[f\"date_{action}\"], p['name']) for p in pubs if p[\"_cls\"] == pub_type]\n",
    "            res = max(tmp, key=lambda x: x[0]) if (len(tmp) > 0) else (None, None)\n",
    "            pubs_stats[f'{e.name.lower()}_last_{action}_date'] = res[0]\n",
    "            pubs_stats[f'{e.name.lower()}_last_{action}_name'] = res[1]\n",
    "\n",
    "        ## 2)\n",
    "        is_pub_of_type = pd.Series([(p[\"_cls\"] == pub_type) for p in pubs])\n",
    "        is_scorm_or_public = pd.Series([(p.get(\"accessControl\", None) is not None) and (p[\"accessControl\"][\"_cls\"] in [\"public\", \"SCORMConnect\"]) for p in pubs])\n",
    "        is_private_and_lg_active = pd.Series([(p.get(\"accessControl\", None) is not None) and (p[\"accessControl\"][\"_cls\"] == \"private\") and (str(p[\"_id\"]) in id_pubs_with_active_learning_group) for p in pubs])\n",
    "        is_pub_active = is_pub_of_type & (is_scorm_or_public | is_private_and_lg_active)\n",
    "        pubs_stats[f\"{e.name.lower()}_nb_active\"] = is_pub_active.sum()\n",
    "\n",
    "    pubs_stat_list.append(pubs_stats)\n"
   ]
  },
  {
   "cell_type": "code",
   "execution_count": 93,
   "metadata": {},
   "outputs": [],
   "source": [
    "df_pubs = pd.DataFrame(pubs_stat_list)\n",
    "df_pubs['client_name'] = df_pubs[\"db_name\"].apply(lambda dbn: customers_info_dict[dbn][\"name\"])\n",
    "df_pubs['url'] = df_pubs[\"db_name\"].apply(lambda dbn: customers_info_dict[dbn][\"hostnames\"])\n",
    "\n",
    "## reorder columns\n",
    "col_order = ['client_name', 'url', 'db_name']\n",
    "for pub_type in [\"course\", \"single_module\", \"adaptive\"]:\n",
    "    col_order += [c for c in df_pubs.columns if c.startswith(pub_type)]\n",
    "df_pubs = df_pubs[col_order]\n",
    "\n",
    "## reorder rows by last updated date for single modules\n",
    "df_pubs = df_pubs.sort_values('single_module_last_updated_date', ascending=False)"
   ]
  },
  {
   "cell_type": "markdown",
   "metadata": {},
   "source": [
    "## write excel file"
   ]
  },
  {
   "cell_type": "code",
   "execution_count": 99,
   "metadata": {},
   "outputs": [],
   "source": [
    "df_pubs.to_excel('~/Desktop/2024-02-05-type-publications.xlsx', index=False)"
   ]
  },
  {
   "cell_type": "code",
   "execution_count": 97,
   "metadata": {},
   "outputs": [],
   "source": [
    "stats = {}\n",
    "pub_types_list = [\"course\", \"single_module\", \"adaptive\"]\n",
    "for c in pub_types_list:\n",
    "    stats[f\"nb_total_{c}\"] = df_pubs[f\"{c}_nb\"].sum()\n",
    "stats[\"nb_total\"] = sum(stats.values())\n",
    "for c in pub_types_list:\n",
    "    stats[f\"pct_total_{c}\"] = stats[f\"nb_total_{c}\"] / stats[\"nb_total\"]"
   ]
  },
  {
   "cell_type": "code",
   "execution_count": 98,
   "metadata": {},
   "outputs": [
    {
     "data": {
      "text/plain": [
       "{'nb_total_course': 5343,\n",
       " 'nb_total_single_module': 344,\n",
       " 'nb_total_adaptive': 136,\n",
       " 'nb_total': 5823,\n",
       " 'pct_total_course': 0.9175682637815559,\n",
       " 'pct_total_single_module': 0.05907607762321827,\n",
       " 'pct_total_adaptive': 0.02335565859522583}"
      ]
     },
     "execution_count": 98,
     "metadata": {},
     "output_type": "execute_result"
    }
   ],
   "source": [
    "stats"
   ]
  }
 ],
 "metadata": {
  "kernelspec": {
   "display_name": "pydidask",
   "language": "python",
   "name": "python3"
  },
  "language_info": {
   "codemirror_mode": {
    "name": "ipython",
    "version": 3
   },
   "file_extension": ".py",
   "mimetype": "text/x-python",
   "name": "python",
   "nbconvert_exporter": "python",
   "pygments_lexer": "ipython3",
   "version": "3.12.0"
  }
 },
 "nbformat": 4,
 "nbformat_minor": 2
}
