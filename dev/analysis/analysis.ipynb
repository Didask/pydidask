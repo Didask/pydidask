{
 "cells": [
  {
   "cell_type": "code",
   "execution_count": 1,
   "metadata": {},
   "outputs": [],
   "source": [
    "import os\n",
    "from pymongo.mongo_client import MongoClient\n",
    "from pymongo.server_api import ServerApi\n",
    "import subprocess\n",
    "from dotenv import load_dotenv\n",
    "from pathlib import Path\n",
    "load_dotenv()\n",
    "\n",
    "USERNAME = os.getenv('USERNAME')\n",
    "PASSWORD = os.getenv('PASSWORD')\n",
    "URL_CLUSTER_BACKUP = os.getenv('URL_CLUSTER_BACKUP')\n",
    "URL_CLUSTER_PROD = os.getenv('URL_CLUSTER_PROD')\n",
    "\n",
    "URI_CLUSTER_PROD = f\"mongodb+srv://{USERNAME}:{PASSWORD}@{URL_CLUSTER_PROD}\"\n",
    "URI_CLUSTER_BACKUP = f\"mongodb+srv://{USERNAME}:{PASSWORD}@{URL_CLUSTER_BACKUP}\"\n",
    "\n",
    "PATH_MONGO_LOCAL = Path(\"/Users/selimrbd/Applications/mongodb\")\n",
    "PATH_MONGO_LOCAL_DATA = PATH_MONGO_LOCAL/\"data\"s\n",
    "PATH_MONGO_LOCAL_DB = PATH_MONGO_LOCAL_DATA/\"db\"\n",
    "PATH_MONGO_LOCAL_ARCHIVES = PATH_MONGO_LOCAL_DATA/\"archives\""
   ]
  },
  {
   "cell_type": "code",
   "execution_count": null,
   "metadata": {},
   "outputs": [],
   "source": [
    "coll_publications = \"course\"\n",
    "coll_projects = \"projects\"\n",
    "coll_module = \"topic\"\n",
    "coll_course_module = \"course_module\""
   ]
  },
  {
   "cell_type": "code",
   "execution_count": null,
   "metadata": {},
   "outputs": [],
   "source": [
    "mongo_client = MongoClient(URL_CLUSTER_PROD)\n",
    "test_mongo_client(mongo_client)"
   ]
  },
  {
   "cell_type": "code",
   "execution_count": null,
   "metadata": {},
   "outputs": [],
   "source": [
    "mongo_client[\"org_orgaly\"]"
   ]
  },
  {
   "cell_type": "markdown",
   "metadata": {},
   "source": [
    "# Exploration"
   ]
  },
  {
   "cell_type": "code",
   "execution_count": null,
   "metadata": {},
   "outputs": [],
   "source": [
    "total_size = sum([d['sizeOnDisk'] for d in db_list])\n",
    "print(f\"total size of all databases on cluster: {total_size/10**9:.2f} GB\")\n",
    "print(f\"number of databases: {len(db_list)}\")"
   ]
  },
  {
   "cell_type": "code",
   "execution_count": null,
   "metadata": {},
   "outputs": [],
   "source": [
    "db_main = client[\"main\"]\n",
    "nb_workspaces = db_main.Workspace.count_documents({})\n",
    "print(f\"Number of workspaces: {nb_workspaces}\")"
   ]
  },
  {
   "cell_type": "code",
   "execution_count": null,
   "metadata": {},
   "outputs": [],
   "source": [
    "# espace | nb_proj | nb_proj_0_pub | nb_proj_1_pub | nb_proj_2plus_pub"
   ]
  },
  {
   "cell_type": "markdown",
   "metadata": {},
   "source": [
    "## demande florence"
   ]
  },
  {
   "cell_type": "markdown",
   "metadata": {},
   "source": [
    "https://didask.slack.com/archives/CBYCC39KM/p1700149243288999\n",
    "\n",
    "- Je cherche à savoir combien de publications sont faites en règle générale par projet chez nos clients.\n",
    "- Je cherche à savoir combien de projets ne dispose que d'une publication (par rapport au nombre de projet total, en excluant ceux qui en ont zéro)"
   ]
  },
  {
   "cell_type": "markdown",
   "metadata": {},
   "source": [
    "## questions intermédiaires\n",
    "\n",
    "- Récupérer le nom de l'URL ?\n",
    "- Combien de projets possède un espace ?\n",
    "- Combien de publications possède un espace ?\n",
    "- "
   ]
  },
  {
   "cell_type": "code",
   "execution_count": null,
   "metadata": {},
   "outputs": [],
   "source": [
    "# course = publication\n",
    "# topic = module\n",
    "# 1 project = 1 document dans la collection \"project\"\n",
    "# 1 publication = 1 document dans la collection \"course\"\n",
    "# 1 module = 1 document dans la collection  \"topic\"\n",
    "\n",
    "\n",
    "## UNSOLVED QUESTIONS\n",
    "# How do you distinguish between publications with chapters or without chapters ? Unclear.\n"
   ]
  }
 ],
 "metadata": {
  "kernelspec": {
   "display_name": ".venv",
   "language": "python",
   "name": "python3"
  },
  "language_info": {
   "codemirror_mode": {
    "name": "ipython",
    "version": 3
   },
   "file_extension": ".py",
   "mimetype": "text/x-python",
   "name": "python",
   "nbconvert_exporter": "python",
   "pygments_lexer": "ipython3",
   "version": "3.12.0"
  },
  "orig_nbformat": 4
 },
 "nbformat": 4,
 "nbformat_minor": 2
}
