{
 "cells": [
  {
   "cell_type": "code",
   "execution_count": 22,
   "metadata": {},
   "outputs": [],
   "source": [
    "import sys\n",
    "sys.path.append('../..')\n",
    "from pathlib import Path\n",
    "from gdrive.gdrive_api import GDrive\n",
    "import pandas as pd\n",
    "path_data = Path('data/2024-02-27-userpilot-nps.xlsx')\n",
    "path_data_out = Path('data/tag-des-testeurs.xlsx')"
   ]
  },
  {
   "cell_type": "markdown",
   "metadata": {},
   "source": [
    "## create DF for labelling test files"
   ]
  },
  {
   "cell_type": "code",
   "execution_count": 23,
   "metadata": {},
   "outputs": [],
   "source": [
    "df = pd.read_excel(path_data)\n",
    "cols = [\"Hostname\", \"Company Name\"]\n",
    "is_not_duplicated = ~df[cols].duplicated(keep=\"first\")\n",
    "df = df.loc[is_not_duplicated, cols]\n",
    "df[\"Testeur à exclure\"] = \"\""
   ]
  },
  {
   "cell_type": "code",
   "execution_count": 24,
   "metadata": {},
   "outputs": [],
   "source": [
    "df.to_excel(path_data_out, index=False)"
   ]
  }
 ],
 "metadata": {
  "kernelspec": {
   "display_name": "pydidask",
   "language": "python",
   "name": "python3"
  },
  "language_info": {
   "codemirror_mode": {
    "name": "ipython",
    "version": 3
   },
   "file_extension": ".py",
   "mimetype": "text/x-python",
   "name": "python",
   "nbconvert_exporter": "python",
   "pygments_lexer": "ipython3",
   "version": "3.12.0"
  }
 },
 "nbformat": 4,
 "nbformat_minor": 2
}
