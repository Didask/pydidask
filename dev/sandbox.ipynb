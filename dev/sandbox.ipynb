{
 "cells": [
  {
   "cell_type": "code",
   "execution_count": 69,
   "metadata": {},
   "outputs": [
    {
     "name": "stdout",
     "output_type": "stream",
     "text": [
      "Pinged your deployment. You successfully connected to MongoDB!\n",
      "Pinged your deployment. You successfully connected to MongoDB!\n",
      "Pinged your deployment. You successfully connected to MongoDB!\n"
     ]
    }
   ],
   "source": [
    "from utils import get_mongo_client, test_mongo_client\n",
    "from bson.timestamp import Timestamp\n",
    "from datetime import datetime\n",
    "TARGET_ENV = \"production\" #\"backup\"\n",
    "\n",
    "client_prod = get_mongo_client(\"production\")\n",
    "test_mongo_client(client_prod)\n",
    "client_backup = get_mongo_client(\"backup\")\n",
    "test_mongo_client(client_backup)\n",
    "client_local = get_mongo_client(\"local\")\n",
    "test_mongo_client(client_local)"
   ]
  },
  {
   "cell_type": "code",
   "execution_count": 72,
   "metadata": {},
   "outputs": [],
   "source": [
    "oplog = client_backup[\"local\"]['oplog.rs']\n",
    "\n",
    "# Specify your cutoff timestamp (year, month, day, hour, minute, second)\n",
    "cutoff_timestamp = datetime(2023, 1, 12, 15, 0, 0)  # Example: January 1, 2023, at 00:00:00\n",
    "cutoff_bson_timestamp = Timestamp(int(cutoff_timestamp.timestamp()), 1)\n",
    "\n",
    "#last_write_op = oplog.find({'op': {'$in': ['i', 'u', 'd']}, 'ns': {'$not': {'$regex': '^config\\\\.'}}}).sort('$natural', -1).limit(1)\n",
    "# Find the last write operation before the cutoff timestamp\n",
    "last_write_op = oplog.find({'op': {'$in': ['i', 'u', 'd']},\n",
    "                            'ts': {'$lt': cutoff_bson_timestamp},\n",
    "                            'ns': {'$not': {'$regex': '^config\\\\.'}}}).sort('$natural', -1).limit(1)\n",
    "\n",
    "for op in last_write_op:\n",
    "        timestamp = op['ts'].as_datetime()\n",
    "        operation_type = op['op']\n",
    "        namespace = op['ns']\n",
    "        print(\"Timestamp of the last write operation:\", timestamp)\n",
    "        print(\"Operation type:\", operation_type)\n",
    "        print(\"Namespace (database.collection):\", namespace)"
   ]
  },
  {
   "cell_type": "code",
   "execution_count": null,
   "metadata": {},
   "outputs": [],
   "source": []
  }
 ],
 "metadata": {
  "kernelspec": {
   "display_name": "pydidask",
   "language": "python",
   "name": "python3"
  },
  "language_info": {
   "codemirror_mode": {
    "name": "ipython",
    "version": 3
   },
   "file_extension": ".py",
   "mimetype": "text/x-python",
   "name": "python",
   "nbconvert_exporter": "python",
   "pygments_lexer": "ipython3",
   "version": "3.12.0"
  }
 },
 "nbformat": 4,
 "nbformat_minor": 2
}
