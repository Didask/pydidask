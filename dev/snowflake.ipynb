{
 "cells": [
  {
   "cell_type": "code",
   "execution_count": 1,
   "metadata": {},
   "outputs": [],
   "source": [
    "import pandas as pd\n",
    "import json\n",
    "from pathlib import Path\n",
    "from dotenv import load_dotenv\n",
    "import os\n",
    "from sqlalchemy import create_engine\n",
    "from datetime import datetime\n",
    "import random \n",
    "from pydidask.utils import RenderJSON\n",
    "\n",
    "ID_LIST_BUGS = 210777287\n",
    "PATH_CREDS = Path(\"creds/.env\")\n",
    "\n",
    "_ = load_dotenv(dotenv_path=PATH_CREDS)\n",
    "# pip install sqlalchemy snowflake-sqlalchemy"
   ]
  },
  {
   "cell_type": "code",
   "execution_count": 2,
   "metadata": {},
   "outputs": [],
   "source": [
    "def create_snowflake_engine(\n",
    "        database, schema,\n",
    "        user=os.getenv(\"SNOWFLAKE_USER\"), \n",
    "        password=os.getenv(\"SNOWFLAKE_PASSWORD\"), \n",
    "        account=os.getenv(\"SNOWFLAKE_ACCOUNT\"), \n",
    "        warehouse=os.getenv(\"SNOWFLAKE_WAREHOUSE\"), \n",
    "        role=os.getenv(\"SNOWFLAKE_ROLE\")):\n",
    "    engine = create_engine(f'snowflake://{user}:{password}@{account}/{database}/{schema}?warehouse={warehouse}&role={role}')\n",
    "    return engine"
   ]
  },
  {
   "cell_type": "code",
   "execution_count": 3,
   "metadata": {},
   "outputs": [],
   "source": [
    "database =os.getenv(\"SNOWFLAKE_DATABASE_RAW\")\n",
    "schema = os.getenv(\"SNOWFLAKE_SCHEMA_CLICKUP\")\n",
    "\n",
    "engine = create_snowflake_engine(database,schema)\n",
    "connection = engine.connect()"
   ]
  },
  {
   "cell_type": "code",
   "execution_count": 4,
   "metadata": {},
   "outputs": [],
   "source": [
    "query_clickup_tasks = \"SELECT * FROM TASK\"\n",
    "\n",
    "df_tasks = pd.read_sql_query(query_clickup_tasks, con=connection)\n",
    "df_bugs = df_tasks[df_tasks[\"list_id\"] == ID_LIST_BUGS]\n",
    "\n",
    "b_open = (df_bugs[\"status_status\"].str.lower() != 'closed')\n",
    "df_bugs_open = df_bugs[b_open]"
   ]
  },
  {
   "cell_type": "code",
   "execution_count": 6,
   "metadata": {},
   "outputs": [
    {
     "name": "stdout",
     "output_type": "stream",
     "text": [
      "number of tasks: 2339\n",
      "number of bugs: 1280\n",
      "number of bugs open: 49\n"
     ]
    }
   ],
   "source": [
    "print(f\"number of tasks: {len(df_tasks)}\")\n",
    "print(f\"number of bugs: {len(df_bugs)}\")\n",
    "print(f\"number of bugs open: {len(df_bugs_open)}\")"
   ]
  },
  {
   "cell_type": "code",
   "execution_count": 7,
   "metadata": {},
   "outputs": [
    {
     "name": "stdout",
     "output_type": "stream",
     "text": [
      "Task ID: 8693aytk7\n",
      "URL: https://app.clickup.com/t/8693aytk7\n",
      "task name: '[CFPPA] Lenteurs de l'app à l’upload de PDF au-delà de 12MO'\n"
     ]
    }
   ],
   "source": [
    "i = random.randint(0, len(df_bugs_open))\n",
    "task_id = df_bugs_open[\"id\"].iloc[i]\n",
    "task_name = df_bugs_open[\"name\"].iloc[i]\n",
    "print(f'Task ID: {task_id}')\n",
    "print(f\"URL: https://app.clickup.com/t/{task_id}\")\n",
    "print(f\"task name: '{task_name}'\")"
   ]
  },
  {
   "cell_type": "code",
   "execution_count": 8,
   "metadata": {},
   "outputs": [],
   "source": [
    "c_fields= json.loads(df_bugs_open[\"custom_fields\"].iloc[i])\n",
    "fields_interest = [\"Type d'anomalie\", \"Source du problème\", \"Type de problème\", \"client impacté\", \"Url de reproduction\"]\n",
    "c_fields_f = [e for e in c_fields if e[\"name\"] in fields_interest]"
   ]
  },
  {
   "cell_type": "code",
   "execution_count": 9,
   "metadata": {},
   "outputs": [
    {
     "data": {
      "text/html": [
       "<div id=\"c11ae9ec-2021-4502-b02f-655f3e144aff\" style=\"height: auto; width:100%;\"></div>"
      ],
      "text/plain": [
       "<IPython.core.display.HTML object>"
      ]
     },
     "metadata": {},
     "output_type": "display_data"
    },
    {
     "data": {
      "text/html": [
       "<script>\n",
       "        require([\"https://rawgit.com/caldwell/renderjson/master/renderjson.js\"], function() {\n",
       "          renderjson.set_show_to_level(1)\n",
       "          document.getElementById('c11ae9ec-2021-4502-b02f-655f3e144aff').appendChild(renderjson({\"date_created\": \"1702901196433\", \"hide_from_guests\": true, \"id\": \"94ccf034-399f-4c2e-884a-8babf3f2c3f6\", \"name\": \"Type de probl\\u00e8me\", \"required\": false, \"type\": \"drop_down\", \"type_config\": {\"options\": [{\"color\": \"#e50000\", \"id\": \"e451e093-c635-4a03-9a50-88be609f0e28\", \"name\": \"Regression\", \"orderindex\": 0}, {\"color\": \"#f9d900\", \"id\": \"5b248980-d8ed-4108-ae30-b51e5f9532be\", \"name\": \"Performances\", \"orderindex\": 1}, {\"color\": \"#ff7800\", \"id\": \"378bc36c-b35e-4a81-aaa1-1071d7e0b21b\", \"name\": \"Bug sur nouvelle fonctionnalit\\u00e9\", \"orderindex\": 2}, {\"color\": \"#bf55ec\", \"id\": \"5b66a1ea-d70d-4ce5-9288-974bea6ca47f\", \"name\": \"Fonctionnalit\\u00e9 incompl\\u00e8te/non optimale\", \"orderindex\": 3}, {\"color\": \"#667684\", \"id\": \"09e7cf74-0f5b-4e96-9c33-fb52d445cb88\", \"name\": \"Mauvaise utilisation client\", \"orderindex\": 4}]}}))\n",
       "        });</script>\n",
       "        "
      ],
      "text/plain": [
       "<IPython.core.display.HTML object>"
      ]
     },
     "metadata": {},
     "output_type": "display_data"
    }
   ],
   "source": [
    "f_name = \"Type de problème\"\n",
    "_ = RenderJSON([e for e in c_fields_f if e[\"name\"] == f_name][0])"
   ]
  },
  {
   "cell_type": "code",
   "execution_count": 26,
   "metadata": {},
   "outputs": [],
   "source": [
    "query_access_fields = \"SELECT * FROM ACCESSIBLE_CUSTOM_FIELD\"\n",
    "\n",
    "df_access_fields = pd.read_sql_query(query_access_fields, con=connection)"
   ]
  },
  {
   "cell_type": "code",
   "execution_count": 27,
   "metadata": {},
   "outputs": [],
   "source": [
    "b = df_access_fields[\"name\"] == \"Type d'anomalie\"\n",
    "a_field = json.loads(df_access_fields[b][\"type_config\"].iloc[0])"
   ]
  },
  {
   "cell_type": "code",
   "execution_count": 28,
   "metadata": {},
   "outputs": [
    {
     "data": {
      "text/plain": [
       "{'default': 0,\n",
       " 'new_drop_down': True,\n",
       " 'options': [{'color': '#800000',\n",
       "   'id': '1191f916-90a8-4df8-a3ee-25b19d135b89',\n",
       "   'name': \"Anomalie bloquante (la plateforme, ou une de ses fonctionnalités n'est plus accessible)\",\n",
       "   'orderindex': 0},\n",
       "  {'color': '#e50000',\n",
       "   'id': '5f25748d-c9c1-4443-8dcd-724e38b63af2',\n",
       "   'name': \"Anomalie majeure (altère très gravement, sans l’interrompre, l'utilisation d'une fonctionalité)\",\n",
       "   'orderindex': 1},\n",
       "  {'color': '#9b59b6',\n",
       "   'id': 'f69f1d25-e616-46fc-9255-8741196c5d01',\n",
       "   'name': \"Anomalie mineure (altère sans l’interrompre  l'utilisation d'une fonctionalité)\",\n",
       "   'orderindex': 2},\n",
       "  {'color': '#81B1FF',\n",
       "   'id': 'ce6d9aa7-af98-42c9-b304-db6d7cf94d79',\n",
       "   'name': 'Autre (demandes, questions)',\n",
       "   'orderindex': 3}],\n",
       " 'placeholder': None}"
      ]
     },
     "execution_count": 28,
     "metadata": {},
     "output_type": "execute_result"
    }
   ],
   "source": [
    "a_field"
   ]
  },
  {
   "cell_type": "markdown",
   "metadata": {},
   "source": [
    "## query prod data"
   ]
  },
  {
   "cell_type": "code",
   "execution_count": 4,
   "metadata": {},
   "outputs": [],
   "source": [
    "database = \"ANALYTICS\"\n",
    "schema = \"PRODUCTION\"\n",
    "\n",
    "engine = create_snowflake_engine(database,schema)\n",
    "connection = engine.connect()"
   ]
  },
  {
   "cell_type": "code",
   "execution_count": 7,
   "metadata": {},
   "outputs": [],
   "source": [
    "df_bugs = pd.read_sql_query(\"SELECT * FROM fct_bugs_open\", con=connection)"
   ]
  },
  {
   "cell_type": "code",
   "execution_count": 15,
   "metadata": {},
   "outputs": [
    {
     "data": {
      "text/html": [
       "<style type=\"text/css\">\n",
       "</style>\n",
       "<table id=\"T_e88c5\">\n",
       "  <thead>\n",
       "    <tr>\n",
       "      <th class=\"blank level0\" >&nbsp;</th>\n",
       "      <th id=\"T_e88c5_level0_col0\" class=\"col_heading level0 col0\" >info</th>\n",
       "      <th id=\"T_e88c5_level0_col1\" class=\"col_heading level0 col1\" >taux de completion</th>\n",
       "    </tr>\n",
       "  </thead>\n",
       "  <tbody>\n",
       "    <tr>\n",
       "      <th id=\"T_e88c5_level0_row0\" class=\"row_heading level0 row0\" >0</th>\n",
       "      <td id=\"T_e88c5_row0_col0\" class=\"data row0 col0\" >problem_severity_id</td>\n",
       "      <td id=\"T_e88c5_row0_col1\" class=\"data row0 col1\" >100%</td>\n",
       "    </tr>\n",
       "    <tr>\n",
       "      <th id=\"T_e88c5_level0_row1\" class=\"row_heading level0 row1\" >1</th>\n",
       "      <td id=\"T_e88c5_row1_col0\" class=\"data row1 col0\" >problem_type_id</td>\n",
       "      <td id=\"T_e88c5_row1_col1\" class=\"data row1 col1\" >8%</td>\n",
       "    </tr>\n",
       "    <tr>\n",
       "      <th id=\"T_e88c5_level0_row2\" class=\"row_heading level0 row2\" >2</th>\n",
       "      <td id=\"T_e88c5_row2_col0\" class=\"data row2 col0\" >problem_source_id</td>\n",
       "      <td id=\"T_e88c5_row2_col1\" class=\"data row2 col1\" >10%</td>\n",
       "    </tr>\n",
       "    <tr>\n",
       "      <th id=\"T_e88c5_level0_row3\" class=\"row_heading level0 row3\" >3</th>\n",
       "      <td id=\"T_e88c5_row3_col0\" class=\"data row3 col0\" >client_impacted_id</td>\n",
       "      <td id=\"T_e88c5_row3_col1\" class=\"data row3 col1\" >98%</td>\n",
       "    </tr>\n",
       "    <tr>\n",
       "      <th id=\"T_e88c5_level0_row4\" class=\"row_heading level0 row4\" >4</th>\n",
       "      <td id=\"T_e88c5_row4_col0\" class=\"data row4 col0\" >url_impacted</td>\n",
       "      <td id=\"T_e88c5_row4_col1\" class=\"data row4 col1\" >96%</td>\n",
       "    </tr>\n",
       "  </tbody>\n",
       "</table>\n"
      ],
      "text/plain": [
       "<pandas.io.formats.style.Styler at 0x28488bbc0>"
      ]
     },
     "execution_count": 15,
     "metadata": {},
     "output_type": "execute_result"
    }
   ],
   "source": [
    "tmp = pd.DataFrame({'info': [\"problem_severity_id\", \"problem_type_id\", \"problem_source_id\", \"client_impacted_id\", \"url_impacted\"]})\n",
    "tmp[\"taux de completion\"] = tmp[\"info\"].apply(lambda c: (~df_bugs[c].isnull()).mean())\n",
    "tmp.style.format({\"taux de completion\": '{:.0%}'})"
   ]
  },
  {
   "cell_type": "code",
   "execution_count": 18,
   "metadata": {},
   "outputs": [
    {
     "name": "stdout",
     "output_type": "stream",
     "text": [
      "https://herosdiscrets.didask.com/studio/projects/6547c9fa0072a5a902a10127\n",
      "http://casepassedanslesmails.didask.com\n",
      "https://academie-supexpertise.didask.com/programs/635a9a9383e1d739c27228af?isPreview=true\n",
      "https://cfpc2030.didask.com/studio/projects/654a69f321850a6a1996544d?granuleId=656da17013f5a537ed6cf0be&topicId=656da17013f5a537ed6cf0bd&drawer=edition&isEditing=true\n",
      "https://orange-groupe.didask.com/api/studio/courses/637e3d21cea814691e265811/analytics/users/export?groupsIds=6491cdfe8a0b905818961fbf&groupsIds=6491ce108a0b905818962005&groupsIds=6491ce688a0b9058189620d6&groupsIds=64faebe388d227fd50233669&groupsIds=651e971c63f16d5e65325033&withLearnersNotInAnyGroup=true&searchTerm=\n",
      "https://superadmin.didask.com/workspaces/production/65685f2fe7d8ec3e78b52099/settings\n",
      "https://telemaque.didask.com/studio/projects/64413df1d22615a77453dea5/publications/64c8eb761118a152bf7fcf9e\n",
      "https://herosdiscrets.didask.com/studio/projects/6547c9fa0072a5a902a10127/topics/6579873b06562d8881d7b489\n",
      "https://edhec-augmented-law-institute.didask.com/studio/projects/656f52eb315dd6e65fcc0c90/publications/656f74ca85022a3327370e2a\n",
      "https://playground.didask.com/administration/users\n",
      "https://yeap.didask.com/studio/projects/64103abfb04bbf8eeca7845d/publications/647726703956a91e10d34f44/preview/6526bd590bd6bffb28312abd\n",
      "https://eurofins.didask.com/studio/projects/63286d01977452007feeeaf6/analytics/63a462171e09a2f81d94fcc0?from=publication\n",
      "https://localhost:3000/studio/projects/\n",
      "https://dgafp.didask.com/studio\n",
      "https://www.loom.com/share/b391504aaccf41b390e3693268c4cd5f\n",
      "https://didask.portail.smartschool.defense.gouv.fr/studio/projects/642aa936763d501674867a14\n",
      "https://trial.didask.com/studio/projects/63d24049c053f803b5db74c1/analytics/640604593d9649b2e127fc43?from=publication\n",
      "https://playground.didask.com/studio/projects/652e8b86f527456197e0c2d5?tab=modules&topicId=652e8d48c09d0e238b9df006&granuleId=653fddbc2042f3cee29f943c&drawer=edition&isEditing=true\n",
      "https://yeap.didask.com/studio\n",
      "https://centre-de-formation-3d.didask.com/studio\n",
      "https://playground.didask.com/profile/6569f1da05728beb978677b7\n",
      "https://edhec-augmented-law-institute.didask.com/studio/projects/656f52eb315dd6e65fcc0c90/topics/656f551f315dd6e65fcc19fc\n",
      "https://sales4.didask.com/studio/projects/651fce59c25bcc40e8e78a3e/topics/6568a8df874740e73afbc864\n",
      "https://ifpen.didask.com/studio/publications\n",
      "https://orange-groupe.didask.com/administration/users\n",
      "https://nosviesbascarbone.didask.com/studio/projects/65197df34d21deff9ed50ee9?topicId=651e83c563f16d5e652fc617\n",
      "https://didask.albioma.com/en/studio/projects/6564bacb3aeb544ca90af181/publications/6564bacb3aeb544ca90af1be\n",
      "https://cfpc2030.didask.com/studio/projects/65491c0b294120c921d5b007?topicId=65491c3c294120c921d5b26c&granuleId=65707c0cb23238ca0617e084&drawer=edition\n",
      "https://playground.didask.com/courses/demo-5?panel=content\n",
      "https://minarmees.didask.com/studio/projects/6544fb29b49af4e044f9ab6b/analytics/6544fd9ebd675c2537928d2b\n",
      "https://minarmees.didask.com/studio/projects/6544fb29b49af4e044f9ab6b/analytics/6544fd9ebd675c2537928d2b\n",
      "https://playground.didask.com/studio/projects/61f123dfcedf710046b009b9?granuleId=657897de7e0888b9fa21b668&topicId=6200ea5f76b41f004fce8e4f&drawer=edition&advancedEditor=open&isEditing=true\n",
      "https://yeap.didask.com/studio\n",
      "https://cfpc2030.didask.com/catalog?groupIds=6560ce1f8298e5c0534d6928\n",
      "https://cfppa.didask.com/studio\n",
      "https://playground.didask.com/studio/projects/652e8b86f527456197e0c2d5\n",
      "https://preventech.didask.com/studio/projects/64f59667247996117432ea2e/publications/65797408ba50e0d2b3f329a4\n",
      "https://cfpc2030.didask.com/studio/projects/65491c0b294120c921d5b007?tab=modules&topicId=65491c3c294120c921d5b26c&granuleId=657c6333e918914e4141af98&drawer=edition&isEditing=true\n",
      "http://playground.didask.com\n",
      "https://edhec-augmented-law-institute.didask.com/studio/projects/656f52eb315dd6e65fcc0c90/publications/656f74ca85022a3327370e2a\n",
      "https://cfpc2030.didask.com/studio/projects/65491c0b294120c921d5b007?topicId=65491c3c294120c921d5b26c&granuleId=656f6ef9b715b9ed18ffe614&drawer=edition&isEditing=true\n",
      "https://playground.didask.com/catalog?tab=programs\n",
      "https://cfpc2030.didask.com/studio/projects/651be47a30f275dc37aad5e3/topics/6565d8e4c7fddabe09386086?granuleId=657ad704a418196442ffad96&topicId=6565d8e4c7fddabe09386086&drawer=edition&isEditing=true\n",
      "https://herosdiscrets.didask.com/studio/projects/6547c9fa0072a5a902a10127/publications/6548bf93f6de886b495fb1fe\n",
      "https://edhec-augmented-law-institute.didask.com/studio/projects/656f52eb315dd6e65fcc0c90/publications/656f74ca85022a3327370e2a\n",
      "https://yeap.didask.com/studio\n",
      "https://cfppa.didask.com/studio\n",
      "None\n",
      "None\n"
     ]
    }
   ],
   "source": [
    "for c in df_bugs[\"url_impacted\"]:\n",
    "    print(c)"
   ]
  },
  {
   "cell_type": "code",
   "execution_count": 12,
   "metadata": {},
   "outputs": [
    {
     "data": {
      "text/plain": [
       "Index(['task_id', 'name', 'description', 'status_type', 'status_status',\n",
       "       'list_id', 'archived', 'custom_fields', 'date_created', 'date_closed',\n",
       "       'url', 'problem_severity_id', 'problem_type_id', 'problem_source_id',\n",
       "       'client_impacted_id', 'url_impacted', 'problem_severity_label',\n",
       "       'problem_source_label', 'problem_type_label'],\n",
       "      dtype='object')"
      ]
     },
     "execution_count": 12,
     "metadata": {},
     "output_type": "execute_result"
    }
   ],
   "source": [
    "df_bugs.columns"
   ]
  },
  {
   "cell_type": "markdown",
   "metadata": {},
   "source": [
    "## close connection"
   ]
  },
  {
   "cell_type": "code",
   "execution_count": null,
   "metadata": {},
   "outputs": [],
   "source": [
    "connection.close()"
   ]
  },
  {
   "cell_type": "markdown",
   "metadata": {},
   "source": [
    "## analytics db"
   ]
  },
  {
   "cell_type": "code",
   "execution_count": 63,
   "metadata": {},
   "outputs": [],
   "source": [
    "database = \"ANALYTICS\"\n",
    "schema = \"DBT_SRABOUDI\"\n",
    "engine = create_snowflake_engine(database,schema)\n",
    "connection = engine.connect()"
   ]
  },
  {
   "cell_type": "code",
   "execution_count": 64,
   "metadata": {},
   "outputs": [],
   "source": [
    "query_tickets = \"SELECT * FROM FCT_CLICKUP_TASKS_SUPPORT\"\n",
    "df = pd.read_sql_query(query_tickets, con=connection)"
   ]
  },
  {
   "cell_type": "code",
   "execution_count": 71,
   "metadata": {},
   "outputs": [
    {
     "data": {
      "text/html": [
       "<div>\n",
       "<style scoped>\n",
       "    .dataframe tbody tr th:only-of-type {\n",
       "        vertical-align: middle;\n",
       "    }\n",
       "\n",
       "    .dataframe tbody tr th {\n",
       "        vertical-align: top;\n",
       "    }\n",
       "\n",
       "    .dataframe thead th {\n",
       "        text-align: right;\n",
       "    }\n",
       "</style>\n",
       "<table border=\"1\" class=\"dataframe\">\n",
       "  <thead>\n",
       "    <tr style=\"text-align: right;\">\n",
       "      <th></th>\n",
       "      <th>name</th>\n",
       "    </tr>\n",
       "  </thead>\n",
       "  <tbody>\n",
       "    <tr>\n",
       "      <th>716</th>\n",
       "      <td>🐲 [CFPPA] Impossible de modifier les groupes, ...</td>\n",
       "    </tr>\n",
       "    <tr>\n",
       "      <th>993</th>\n",
       "      <td>l'ordering ne fonctionne pas bien coté aprrena...</td>\n",
       "    </tr>\n",
       "    <tr>\n",
       "      <th>328</th>\n",
       "      <td>[WISPER/AIRCALL] Impossible de dupliquer la pu...</td>\n",
       "    </tr>\n",
       "    <tr>\n",
       "      <th>335</th>\n",
       "      <td>[Vérouillage de l'IA en backoffice] Aucun chan...</td>\n",
       "    </tr>\n",
       "    <tr>\n",
       "      <th>697</th>\n",
       "      <td>[Traductions XLF] Manque de traduction de l'au...</td>\n",
       "    </tr>\n",
       "    <tr>\n",
       "      <th>...</th>\n",
       "      <td>...</td>\n",
       "    </tr>\n",
       "    <tr>\n",
       "      <th>715</th>\n",
       "      <td>Affichage du module en mode liste : quand je c...</td>\n",
       "    </tr>\n",
       "    <tr>\n",
       "      <th>714</th>\n",
       "      <td>Affichage du module en mode liste : quand je c...</td>\n",
       "    </tr>\n",
       "    <tr>\n",
       "      <th>144</th>\n",
       "      <td>Affichage de la publication : \"le chapitre 1 r...</td>\n",
       "    </tr>\n",
       "    <tr>\n",
       "      <th>286</th>\n",
       "      <td>Affichage de l'analyse d'image cassé ?</td>\n",
       "    </tr>\n",
       "    <tr>\n",
       "      <th>713</th>\n",
       "      <td>\"Voilà ce que nous avons lorsque nos clients s...</td>\n",
       "    </tr>\n",
       "  </tbody>\n",
       "</table>\n",
       "<p>109 rows × 1 columns</p>\n",
       "</div>"
      ],
      "text/plain": [
       "                                                  name\n",
       "716  🐲 [CFPPA] Impossible de modifier les groupes, ...\n",
       "993  l'ordering ne fonctionne pas bien coté aprrena...\n",
       "328  [WISPER/AIRCALL] Impossible de dupliquer la pu...\n",
       "335  [Vérouillage de l'IA en backoffice] Aucun chan...\n",
       "697  [Traductions XLF] Manque de traduction de l'au...\n",
       "..                                                 ...\n",
       "715  Affichage du module en mode liste : quand je c...\n",
       "714  Affichage du module en mode liste : quand je c...\n",
       "144  Affichage de la publication : \"le chapitre 1 r...\n",
       "286             Affichage de l'analyse d'image cassé ?\n",
       "713  \"Voilà ce que nous avons lorsque nos clients s...\n",
       "\n",
       "[109 rows x 1 columns]"
      ]
     },
     "execution_count": 71,
     "metadata": {},
     "output_type": "execute_result"
    }
   ],
   "source": [
    "b1 = df[\"created_date_paris\"] >= \"2023-12-01\"\n",
    "b2 = df[\"created_date_paris\"] < \"2024-01-01\"\n",
    "df[b1 & b2].sort_values('name', ascending=False)[[\"name\"]]"
   ]
  },
  {
   "cell_type": "code",
   "execution_count": 72,
   "metadata": {},
   "outputs": [],
   "source": [
    "zz = df[b1 & b2].sort_values('name', ascending=False)"
   ]
  },
  {
   "cell_type": "code",
   "execution_count": 78,
   "metadata": {},
   "outputs": [
    {
     "data": {
      "text/plain": [
       "102"
      ]
     },
     "execution_count": 78,
     "metadata": {},
     "output_type": "execute_result"
    }
   ],
   "source": [
    "len(zz[\"name\"].unique())"
   ]
  },
  {
   "cell_type": "code",
   "execution_count": 60,
   "metadata": {},
   "outputs": [],
   "source": [
    "b1 = df[\"created_date_paris\"] >= \"2023-12-01\"\n",
    "b2 = df[\"created_date_paris\"] < \"2024-01-01\"\n",
    "bugs_dec = df[b1 & b2].sort_values('created_date_paris', ascending=False)"
   ]
  },
  {
   "cell_type": "code",
   "execution_count": 61,
   "metadata": {},
   "outputs": [],
   "source": [
    "def taux_completion_champs(df, champs):\n",
    "    tmp = pd.DataFrame({'info': champs})\n",
    "    tmp[\"taux de completion\"] = tmp[\"info\"].apply(lambda c: (~df[c].isnull()).mean())\n",
    "    return tmp.style.format({\"taux de completion\": '{:.0%}'})"
   ]
  },
  {
   "cell_type": "code",
   "execution_count": 62,
   "metadata": {},
   "outputs": [
    {
     "data": {
      "text/html": [
       "<style type=\"text/css\">\n",
       "</style>\n",
       "<table id=\"T_e8627\">\n",
       "  <thead>\n",
       "    <tr>\n",
       "      <th class=\"blank level0\" >&nbsp;</th>\n",
       "      <th id=\"T_e8627_level0_col0\" class=\"col_heading level0 col0\" >info</th>\n",
       "      <th id=\"T_e8627_level0_col1\" class=\"col_heading level0 col1\" >taux de completion</th>\n",
       "    </tr>\n",
       "  </thead>\n",
       "  <tbody>\n",
       "    <tr>\n",
       "      <th id=\"T_e8627_level0_row0\" class=\"row_heading level0 row0\" >0</th>\n",
       "      <td id=\"T_e8627_row0_col0\" class=\"data row0 col0\" >problem_severity_label</td>\n",
       "      <td id=\"T_e8627_row0_col1\" class=\"data row0 col1\" >99%</td>\n",
       "    </tr>\n",
       "    <tr>\n",
       "      <th id=\"T_e8627_level0_row1\" class=\"row_heading level0 row1\" >1</th>\n",
       "      <td id=\"T_e8627_row1_col0\" class=\"data row1 col0\" >problem_type_label</td>\n",
       "      <td id=\"T_e8627_row1_col1\" class=\"data row1 col1\" >6%</td>\n",
       "    </tr>\n",
       "    <tr>\n",
       "      <th id=\"T_e8627_level0_row2\" class=\"row_heading level0 row2\" >2</th>\n",
       "      <td id=\"T_e8627_row2_col0\" class=\"data row2 col0\" >problem_source_label</td>\n",
       "      <td id=\"T_e8627_row2_col1\" class=\"data row2 col1\" >7%</td>\n",
       "    </tr>\n",
       "    <tr>\n",
       "      <th id=\"T_e8627_level0_row3\" class=\"row_heading level0 row3\" >3</th>\n",
       "      <td id=\"T_e8627_row3_col0\" class=\"data row3 col0\" >customer_label</td>\n",
       "      <td id=\"T_e8627_row3_col1\" class=\"data row3 col1\" >99%</td>\n",
       "    </tr>\n",
       "    <tr>\n",
       "      <th id=\"T_e8627_level0_row4\" class=\"row_heading level0 row4\" >4</th>\n",
       "      <td id=\"T_e8627_row4_col0\" class=\"data row4 col0\" >url_reproduction</td>\n",
       "      <td id=\"T_e8627_row4_col1\" class=\"data row4 col1\" >98%</td>\n",
       "    </tr>\n",
       "  </tbody>\n",
       "</table>\n"
      ],
      "text/plain": [
       "<pandas.io.formats.style.Styler at 0x16b939df0>"
      ]
     },
     "execution_count": 62,
     "metadata": {},
     "output_type": "execute_result"
    }
   ],
   "source": [
    "chps = [\"problem_severity_label\", \"problem_type_label\", \"problem_source_label\", \"customer_label\", \"url_reproduction\"]\n",
    "taux_completion_champs(bugs_dec, chps)"
   ]
  },
  {
   "cell_type": "markdown",
   "metadata": {},
   "source": [
    "## accessible custom fields"
   ]
  },
  {
   "cell_type": "code",
   "execution_count": 37,
   "metadata": {},
   "outputs": [],
   "source": [
    "database = \"RAW\"\n",
    "schema = \"CLICKUP\"\n",
    "engine = create_snowflake_engine(database,schema)\n",
    "connection = engine.connect()\n",
    "\n",
    "\n",
    "query = \"select * from accessible_custom_field\"\n",
    "df = pd.read_sql_query(query, con=connection)"
   ]
  },
  {
   "cell_type": "code",
   "execution_count": 40,
   "metadata": {},
   "outputs": [
    {
     "data": {
      "text/html": [
       "<div>\n",
       "<style scoped>\n",
       "    .dataframe tbody tr th:only-of-type {\n",
       "        vertical-align: middle;\n",
       "    }\n",
       "\n",
       "    .dataframe tbody tr th {\n",
       "        vertical-align: top;\n",
       "    }\n",
       "\n",
       "    .dataframe thead th {\n",
       "        text-align: right;\n",
       "    }\n",
       "</style>\n",
       "<table border=\"1\" class=\"dataframe\">\n",
       "  <thead>\n",
       "    <tr style=\"text-align: right;\">\n",
       "      <th></th>\n",
       "      <th>id</th>\n",
       "      <th>type_config</th>\n",
       "      <th>_fivetran_deleted</th>\n",
       "      <th>list_id</th>\n",
       "      <th>date_created</th>\n",
       "      <th>hide_from_guests</th>\n",
       "      <th>name</th>\n",
       "      <th>type</th>\n",
       "      <th>_fivetran_synced</th>\n",
       "    </tr>\n",
       "  </thead>\n",
       "  <tbody>\n",
       "    <tr>\n",
       "      <th>0</th>\n",
       "      <td>94ccf034-399f-4c2e-884a-8babf3f2c3f6</td>\n",
       "      <td>{\\n  \"options\": [\\n    {\\n      \"color\": \"#e50...</td>\n",
       "      <td>False</td>\n",
       "      <td>210777287</td>\n",
       "      <td>1702901196433</td>\n",
       "      <td>True</td>\n",
       "      <td>Type de problème</td>\n",
       "      <td>drop_down</td>\n",
       "      <td>2024-01-09 09:26:16.171000+00:00</td>\n",
       "    </tr>\n",
       "  </tbody>\n",
       "</table>\n",
       "</div>"
      ],
      "text/plain": [
       "                                     id  \\\n",
       "0  94ccf034-399f-4c2e-884a-8babf3f2c3f6   \n",
       "\n",
       "                                         type_config  _fivetran_deleted  \\\n",
       "0  {\\n  \"options\": [\\n    {\\n      \"color\": \"#e50...              False   \n",
       "\n",
       "     list_id   date_created  hide_from_guests              name       type  \\\n",
       "0  210777287  1702901196433              True  Type de problème  drop_down   \n",
       "\n",
       "                  _fivetran_synced  \n",
       "0 2024-01-09 09:26:16.171000+00:00  "
      ]
     },
     "execution_count": 40,
     "metadata": {},
     "output_type": "execute_result"
    }
   ],
   "source": [
    "df.head(1)"
   ]
  },
  {
   "cell_type": "code",
   "execution_count": 44,
   "metadata": {},
   "outputs": [],
   "source": [
    "bb = df[\"name\"] == \"Url de reproduction\""
   ]
  },
  {
   "cell_type": "code",
   "execution_count": 45,
   "metadata": {},
   "outputs": [
    {
     "data": {
      "text/html": [
       "<div>\n",
       "<style scoped>\n",
       "    .dataframe tbody tr th:only-of-type {\n",
       "        vertical-align: middle;\n",
       "    }\n",
       "\n",
       "    .dataframe tbody tr th {\n",
       "        vertical-align: top;\n",
       "    }\n",
       "\n",
       "    .dataframe thead th {\n",
       "        text-align: right;\n",
       "    }\n",
       "</style>\n",
       "<table border=\"1\" class=\"dataframe\">\n",
       "  <thead>\n",
       "    <tr style=\"text-align: right;\">\n",
       "      <th></th>\n",
       "      <th>id</th>\n",
       "      <th>type_config</th>\n",
       "      <th>_fivetran_deleted</th>\n",
       "      <th>list_id</th>\n",
       "      <th>date_created</th>\n",
       "      <th>hide_from_guests</th>\n",
       "      <th>name</th>\n",
       "      <th>type</th>\n",
       "      <th>_fivetran_synced</th>\n",
       "    </tr>\n",
       "  </thead>\n",
       "  <tbody>\n",
       "    <tr>\n",
       "      <th>52</th>\n",
       "      <td>7b87e793-318f-41b8-9f5c-23feb1b647fb</td>\n",
       "      <td>{}</td>\n",
       "      <td>False</td>\n",
       "      <td>210777287</td>\n",
       "      <td>1665411271852</td>\n",
       "      <td>False</td>\n",
       "      <td>Url de reproduction</td>\n",
       "      <td>url</td>\n",
       "      <td>2024-01-09 09:26:16.171000+00:00</td>\n",
       "    </tr>\n",
       "  </tbody>\n",
       "</table>\n",
       "</div>"
      ],
      "text/plain": [
       "                                      id type_config  _fivetran_deleted  \\\n",
       "52  7b87e793-318f-41b8-9f5c-23feb1b647fb          {}              False   \n",
       "\n",
       "      list_id   date_created  hide_from_guests                 name type  \\\n",
       "52  210777287  1665411271852             False  Url de reproduction  url   \n",
       "\n",
       "                   _fivetran_synced  \n",
       "52 2024-01-09 09:26:16.171000+00:00  "
      ]
     },
     "execution_count": 45,
     "metadata": {},
     "output_type": "execute_result"
    }
   ],
   "source": [
    "df[bb]"
   ]
  },
  {
   "cell_type": "code",
   "execution_count": 49,
   "metadata": {},
   "outputs": [
    {
     "data": {
      "text/html": [
       "<div>\n",
       "<style scoped>\n",
       "    .dataframe tbody tr th:only-of-type {\n",
       "        vertical-align: middle;\n",
       "    }\n",
       "\n",
       "    .dataframe tbody tr th {\n",
       "        vertical-align: top;\n",
       "    }\n",
       "\n",
       "    .dataframe thead th {\n",
       "        text-align: right;\n",
       "    }\n",
       "</style>\n",
       "<table border=\"1\" class=\"dataframe\">\n",
       "  <thead>\n",
       "    <tr style=\"text-align: right;\">\n",
       "      <th></th>\n",
       "      <th>id</th>\n",
       "      <th>type_config</th>\n",
       "      <th>_fivetran_deleted</th>\n",
       "      <th>list_id</th>\n",
       "      <th>date_created</th>\n",
       "      <th>hide_from_guests</th>\n",
       "      <th>name</th>\n",
       "      <th>type</th>\n",
       "      <th>_fivetran_synced</th>\n",
       "    </tr>\n",
       "  </thead>\n",
       "  <tbody>\n",
       "  </tbody>\n",
       "</table>\n",
       "</div>"
      ],
      "text/plain": [
       "Empty DataFrame\n",
       "Columns: [id, type_config, _fivetran_deleted, list_id, date_created, hide_from_guests, name, type, _fivetran_synced]\n",
       "Index: []"
      ]
     },
     "execution_count": 49,
     "metadata": {},
     "output_type": "execute_result"
    }
   ],
   "source": [
    "df[df[\"name\"] == \"Who are you? :D\"]"
   ]
  },
  {
   "cell_type": "code",
   "execution_count": 52,
   "metadata": {},
   "outputs": [
    {
     "data": {
      "text/plain": [
       "array(['Type de problème', 'Lien IC', 'Source du problème',\n",
       "       'Phase du Customer Journey (Circle)',\n",
       "       'Est-ce que le bug est bloquant ?', 'Statut', 'Valeur / Priorité',\n",
       "       'Images', 'Close Date', 'Handoff status', 'Project Code', 'Owner',\n",
       "       'Points (custom)', 'Company Revenue', 'Payment Status',\n",
       "       'Document (facultatif)', 'Où a-t-il été détecté ?',\n",
       "       'Employee Count', \"J'ai réussi à le reproduire\",\n",
       "       'Related projects', 'Quarter ', 'Septembre 2023', 'Progression',\n",
       "       'Completed by', 'Domaine', 'Owners', 'Payment Type', 'Team',\n",
       "       'Notes', 'In-cycle devs', 'Date livraison effective', 'Segment',\n",
       "       'Account Size (Customer effort)', '- Évitable avec un test ?',\n",
       "       'Incertitude', 'Thème ', 'client impacté', 'Appartient',\n",
       "       'Delivery Done/Deadline', 'Cycle duration', 'Type',\n",
       "       'Supported diffusion modes ', 'Email', 'TYPE', 'Date début',\n",
       "       'Phase Design', \"Type d'anomalie\", 'Url de reproduction',\n",
       "       'Estimation en jours', 'Etape mission', 'Opportunité ARR',\n",
       "       'Progress', 'Category', 'Date de début', 'Who are you? :D ',\n",
       "       'ETAPE', 'Catégorie', 'Enjeux UX', 'OBS', 'Lien URL', 'SPs done',\n",
       "       'Plan', 'Complétion ', 'Cycle', 'Deployment status', 'Charge',\n",
       "       'Client', 'Support tickets', 'Available on Publication types',\n",
       "       'Design Pipe', 'Industry', 'Themes', 'Contact Title', 'Quarter',\n",
       "       'SPs Accepted for cycle'], dtype=object)"
      ]
     },
     "execution_count": 52,
     "metadata": {},
     "output_type": "execute_result"
    }
   ],
   "source": [
    "df[\"name\"].unique()"
   ]
  },
  {
   "cell_type": "markdown",
   "metadata": {},
   "source": [
    "## taux de completion depuis creation des fields"
   ]
  },
  {
   "cell_type": "code",
   "execution_count": 31,
   "metadata": {},
   "outputs": [],
   "source": [
    "from datetime import datetime"
   ]
  },
  {
   "cell_type": "code",
   "execution_count": 93,
   "metadata": {},
   "outputs": [],
   "source": [
    "database_clickup = \"RAW\"\n",
    "schema_clickup = \"CLICKUP\"\n",
    "engine_clickup = create_snowflake_engine(database_clickup,schema_clickup)\n",
    "connection_clickup = engine_clickup.connect()\n",
    "query_fields = \"select * from accessible_custom_field\"\n",
    "df_fields = pd.read_sql_query(query_fields, con=connection_clickup)\n",
    "\n",
    "database_prod = \"ANALYTICS\"\n",
    "schema_prod = \"PRODUCTION\"\n",
    "engine_prod = create_snowflake_engine(database_prod, schema_prod)\n",
    "connection_prod = engine_prod.connect()\n",
    "query_tickets = \"SELECT * FROM fct_clickup_tasks_support\"\n",
    "df_tickets = pd.read_sql_query(query_tickets, con=connection_prod)"
   ]
  },
  {
   "cell_type": "code",
   "execution_count": 98,
   "metadata": {},
   "outputs": [
    {
     "name": "stdout",
     "output_type": "stream",
     "text": [
      "fields: 0        Type de problème\n",
      "2      Source du problème\n",
      "39         client impacté\n",
      "51        Type d'anomalie\n",
      "52    Url de reproduction\n",
      "Name: name, dtype: object\n"
     ]
    },
    {
     "data": {
      "text/html": [
       "<div>\n",
       "<style scoped>\n",
       "    .dataframe tbody tr th:only-of-type {\n",
       "        vertical-align: middle;\n",
       "    }\n",
       "\n",
       "    .dataframe tbody tr th {\n",
       "        vertical-align: top;\n",
       "    }\n",
       "\n",
       "    .dataframe thead th {\n",
       "        text-align: right;\n",
       "    }\n",
       "</style>\n",
       "<table border=\"1\" class=\"dataframe\">\n",
       "  <thead>\n",
       "    <tr style=\"text-align: right;\">\n",
       "      <th></th>\n",
       "      <th>name</th>\n",
       "      <th>created_date</th>\n",
       "    </tr>\n",
       "  </thead>\n",
       "  <tbody>\n",
       "    <tr>\n",
       "      <th>0</th>\n",
       "      <td>Type de problème</td>\n",
       "      <td>2023-12-18 13:06:36.433</td>\n",
       "    </tr>\n",
       "    <tr>\n",
       "      <th>2</th>\n",
       "      <td>Source du problème</td>\n",
       "      <td>2023-12-18 13:11:09.155</td>\n",
       "    </tr>\n",
       "    <tr>\n",
       "      <th>39</th>\n",
       "      <td>client impacté</td>\n",
       "      <td>2023-10-19 17:13:24.432</td>\n",
       "    </tr>\n",
       "    <tr>\n",
       "      <th>51</th>\n",
       "      <td>Type d'anomalie</td>\n",
       "      <td>2022-10-10 16:14:08.181</td>\n",
       "    </tr>\n",
       "    <tr>\n",
       "      <th>52</th>\n",
       "      <td>Url de reproduction</td>\n",
       "      <td>2022-10-10 16:14:31.852</td>\n",
       "    </tr>\n",
       "  </tbody>\n",
       "</table>\n",
       "</div>"
      ],
      "text/plain": [
       "                   name            created_date\n",
       "0      Type de problème 2023-12-18 13:06:36.433\n",
       "2    Source du problème 2023-12-18 13:11:09.155\n",
       "39       client impacté 2023-10-19 17:13:24.432\n",
       "51      Type d'anomalie 2022-10-10 16:14:08.181\n",
       "52  Url de reproduction 2022-10-10 16:14:31.852"
      ]
     },
     "execution_count": 98,
     "metadata": {},
     "output_type": "execute_result"
    }
   ],
   "source": [
    "column_lookup_dict = {\n",
    "    \"Url de reproduction\": \"url_reproduction\",\n",
    "    'Type de problème': \"problem_type_label\",\n",
    "    'Source du problème': \"problem_source_label\",\n",
    "    'client impacté': \"customer_label\",\n",
    "    \"Type d'anomalie\": \"problem_severity_label\"\n",
    "    }\n",
    "\n",
    "df_fields[\"created_date\"] = df_fields[\"date_created\"].apply(lambda x: datetime.fromtimestamp(x/1000))\n",
    "fields = ['Url de reproduction', 'Type de problème', 'Source du problème', 'client impacté', \"Type d'anomalie\"]\n",
    "b = df_fields[\"name\"].isin(fields)\n",
    "df_res = df_fields[b][[\"name\",\"created_date\"]]\n",
    "fields = df_res[\"name\"]\n",
    "\n",
    "print(f\"fields: {fields}\")\n",
    "df_res"
   ]
  },
  {
   "cell_type": "code",
   "execution_count": 100,
   "metadata": {},
   "outputs": [
    {
     "name": "stdout",
     "output_type": "stream",
     "text": [
      "current field: 'Type de problème'\n",
      "field created at: 2023-12-18 13:06:36.433000\n",
      "nb tickets closed since: 34\n",
      "equiv column: problem_type_label\n",
      "number of fields completed: 5\n",
      "pct of completion: 15%\n",
      "----\n",
      "current field: 'Source du problème'\n",
      "field created at: 2023-12-18 13:11:09.155000\n",
      "nb tickets closed since: 34\n",
      "equiv column: problem_source_label\n",
      "number of fields completed: 5\n",
      "pct of completion: 15%\n",
      "----\n",
      "current field: 'client impacté'\n",
      "field created at: 2023-10-19 17:13:24.432000\n",
      "nb tickets closed since: 421\n",
      "equiv column: customer_label\n",
      "number of fields completed: 314\n",
      "pct of completion: 75%\n",
      "----\n",
      "current field: 'Type d'anomalie'\n",
      "field created at: 2022-10-10 16:14:08.181000\n",
      "nb tickets closed since: 1245\n",
      "equiv column: problem_severity_label\n",
      "number of fields completed: 1228\n",
      "pct of completion: 99%\n",
      "----\n",
      "current field: 'Url de reproduction'\n",
      "field created at: 2022-10-10 16:14:31.852000\n",
      "nb tickets closed since: 1245\n",
      "equiv column: url_reproduction\n",
      "number of fields completed: 943\n",
      "pct of completion: 76%\n",
      "----\n"
     ]
    }
   ],
   "source": [
    "list_nb_tickets_closed = list()\n",
    "list_pct_completion = list()\n",
    "\n",
    "for fld in fields:\n",
    "    print(f\"current field: '{fld}'\")\n",
    "    date_cr = df_fields.loc[df_fields[\"name\"] == fld, \"created_date\"].iloc[0]\n",
    "    print(f\"field created at: {date_cr}\")\n",
    "    b_dedup_tasks = ~df_tickets[\"task_id\"].duplicated(keep='first')\n",
    "    b_closed_since = df_tickets[\"closed_date_paris\"] >= date_cr\n",
    "    nb_tickets_closed_since = sum(b_dedup_tasks & b_closed_since)\n",
    "    print(f\"nb tickets closed since: {nb_tickets_closed_since}\")\n",
    "    #nb_fields_completed = \n",
    "    #nb_field_completed = tmp[\"\"]\n",
    "\n",
    "    col = column_lookup_dict[fld]\n",
    "    print(f\"equiv column: {col}\")\n",
    "    b_field_completed = ~df_tickets[col].isnull()\n",
    "    nb_fields_completed = sum(b_dedup_tasks & b_closed_since & b_field_completed)\n",
    "    pct_completion = nb_fields_completed/nb_tickets_closed_since\n",
    "    print(f'number of fields completed: {nb_fields_completed}')\n",
    "    print(f'pct of completion: {pct_completion:.0%}')\n",
    "    print('----')\n",
    "\n",
    "    list_nb_tickets_closed.append(nb_tickets_closed_since)\n",
    "    list_pct_completion.append(pct_completion)\n",
    "\n",
    "\n",
    "df_res[\"nb_tickets_closed_since\"] = list_nb_tickets_closed\n",
    "df_res[\"pct_completion\"] = list_pct_completion"
   ]
  },
  {
   "cell_type": "code",
   "execution_count": 101,
   "metadata": {},
   "outputs": [],
   "source": [
    "df_res = df_res.rename(columns={\"name\": \"field_name\", \"created_date\": \"field_creation_date\"})\n",
    "df_res[\"field_creation_date\"] = df_res[\"field_creation_date\"].dt.strftime(\"%Y-%m-%d\")"
   ]
  },
  {
   "cell_type": "code",
   "execution_count": 102,
   "metadata": {},
   "outputs": [
    {
     "data": {
      "text/html": [
       "<style type=\"text/css\">\n",
       "</style>\n",
       "<table id=\"T_c2c81\">\n",
       "  <thead>\n",
       "    <tr>\n",
       "      <th class=\"blank level0\" >&nbsp;</th>\n",
       "      <th id=\"T_c2c81_level0_col0\" class=\"col_heading level0 col0\" >field_name</th>\n",
       "      <th id=\"T_c2c81_level0_col1\" class=\"col_heading level0 col1\" >field_creation_date</th>\n",
       "      <th id=\"T_c2c81_level0_col2\" class=\"col_heading level0 col2\" >nb_tickets_closed_since</th>\n",
       "      <th id=\"T_c2c81_level0_col3\" class=\"col_heading level0 col3\" >pct_completion</th>\n",
       "    </tr>\n",
       "  </thead>\n",
       "  <tbody>\n",
       "    <tr>\n",
       "      <th id=\"T_c2c81_level0_row0\" class=\"row_heading level0 row0\" >0</th>\n",
       "      <td id=\"T_c2c81_row0_col0\" class=\"data row0 col0\" >Type de problème</td>\n",
       "      <td id=\"T_c2c81_row0_col1\" class=\"data row0 col1\" >2023-12-18</td>\n",
       "      <td id=\"T_c2c81_row0_col2\" class=\"data row0 col2\" >34</td>\n",
       "      <td id=\"T_c2c81_row0_col3\" class=\"data row0 col3\" >15%</td>\n",
       "    </tr>\n",
       "    <tr>\n",
       "      <th id=\"T_c2c81_level0_row1\" class=\"row_heading level0 row1\" >2</th>\n",
       "      <td id=\"T_c2c81_row1_col0\" class=\"data row1 col0\" >Source du problème</td>\n",
       "      <td id=\"T_c2c81_row1_col1\" class=\"data row1 col1\" >2023-12-18</td>\n",
       "      <td id=\"T_c2c81_row1_col2\" class=\"data row1 col2\" >34</td>\n",
       "      <td id=\"T_c2c81_row1_col3\" class=\"data row1 col3\" >15%</td>\n",
       "    </tr>\n",
       "    <tr>\n",
       "      <th id=\"T_c2c81_level0_row2\" class=\"row_heading level0 row2\" >39</th>\n",
       "      <td id=\"T_c2c81_row2_col0\" class=\"data row2 col0\" >client impacté</td>\n",
       "      <td id=\"T_c2c81_row2_col1\" class=\"data row2 col1\" >2023-10-19</td>\n",
       "      <td id=\"T_c2c81_row2_col2\" class=\"data row2 col2\" >421</td>\n",
       "      <td id=\"T_c2c81_row2_col3\" class=\"data row2 col3\" >75%</td>\n",
       "    </tr>\n",
       "    <tr>\n",
       "      <th id=\"T_c2c81_level0_row3\" class=\"row_heading level0 row3\" >51</th>\n",
       "      <td id=\"T_c2c81_row3_col0\" class=\"data row3 col0\" >Type d'anomalie</td>\n",
       "      <td id=\"T_c2c81_row3_col1\" class=\"data row3 col1\" >2022-10-10</td>\n",
       "      <td id=\"T_c2c81_row3_col2\" class=\"data row3 col2\" >1245</td>\n",
       "      <td id=\"T_c2c81_row3_col3\" class=\"data row3 col3\" >99%</td>\n",
       "    </tr>\n",
       "    <tr>\n",
       "      <th id=\"T_c2c81_level0_row4\" class=\"row_heading level0 row4\" >52</th>\n",
       "      <td id=\"T_c2c81_row4_col0\" class=\"data row4 col0\" >Url de reproduction</td>\n",
       "      <td id=\"T_c2c81_row4_col1\" class=\"data row4 col1\" >2022-10-10</td>\n",
       "      <td id=\"T_c2c81_row4_col2\" class=\"data row4 col2\" >1245</td>\n",
       "      <td id=\"T_c2c81_row4_col3\" class=\"data row4 col3\" >76%</td>\n",
       "    </tr>\n",
       "  </tbody>\n",
       "</table>\n"
      ],
      "text/plain": [
       "<pandas.io.formats.style.Styler at 0x120bb8140>"
      ]
     },
     "execution_count": 102,
     "metadata": {},
     "output_type": "execute_result"
    }
   ],
   "source": [
    "df_res.style.format({\"pct_completion\": '{:.0%}'})"
   ]
  },
  {
   "cell_type": "code",
   "execution_count": 109,
   "metadata": {},
   "outputs": [],
   "source": [
    "b_url_set = df_tickets[\"url_reproduction\"].apply(lambda x: x is not None)\n",
    "df_tickets[\"url_reproduction_category\"] = \"\"\n",
    "df_tickets[[\"url_reproduction\", \"url_reproduction_category\"]][b_url_set]"
   ]
  },
  {
   "cell_type": "code",
   "execution_count": 111,
   "metadata": {},
   "outputs": [],
   "source": [
    "df_tickets[b_url_set].to_csv(\"~/Desktop/url_de_reproduction.csv\", index=False)"
   ]
  },
  {
   "cell_type": "code",
   "execution_count": null,
   "metadata": {},
   "outputs": [],
   "source": []
  }
 ],
 "metadata": {
  "kernelspec": {
   "display_name": "pydidask",
   "language": "python",
   "name": "python3"
  },
  "language_info": {
   "codemirror_mode": {
    "name": "ipython",
    "version": 3
   },
   "file_extension": ".py",
   "mimetype": "text/x-python",
   "name": "python",
   "nbconvert_exporter": "python",
   "pygments_lexer": "ipython3",
   "version": "3.12.0"
  }
 },
 "nbformat": 4,
 "nbformat_minor": 2
}
