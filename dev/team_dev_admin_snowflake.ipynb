{
 "cells": [
  {
   "cell_type": "markdown",
   "metadata": {},
   "source": [
    "In this notebook I test the ability for users with role \"TEAM_DEV_ADMIN\" in snowflake to manipulate data in the RAW.TEAM_DEV schema. \n",
    "\n",
    "Specifically, they should be able to:\n",
    "- create a new table\n",
    "- perform select operations\n",
    "- insert new rows\n",
    "- delete rows "
   ]
  },
  {
   "cell_type": "markdown",
   "metadata": {},
   "source": [
    "## environment setup"
   ]
  },
  {
   "cell_type": "code",
   "execution_count": 1,
   "metadata": {},
   "outputs": [],
   "source": [
    "from utils_snowflake import load_config, create_snowflake_engine\n",
    "\n",
    "CONFIG = load_config()[\"snowflake\"]\n",
    "account = CONFIG[\"account\"]\n",
    "username = CONFIG[\"team_dev_admin\"][\"username\"]\n",
    "password = CONFIG[\"team_dev_admin\"][\"password\"]\n",
    "warehouse = CONFIG[\"team_dev_admin\"][\"warehouse\"]\n",
    "role = CONFIG[\"team_dev_admin\"][\"role\"]\n",
    "database = \"RAW\"\n",
    "schema = \"TEAM_DEV\""
   ]
  },
  {
   "cell_type": "code",
   "execution_count": 2,
   "metadata": {},
   "outputs": [],
   "source": [
    "cursor = create_snowflake_engine(\n",
    "            database=database, \n",
    "            schema=schema,\n",
    "            user=username,\n",
    "            password=password,\n",
    "            warehouse=warehouse,\n",
    "            role=role)"
   ]
  },
  {
   "cell_type": "code",
   "execution_count": null,
   "metadata": {},
   "outputs": [],
   "source": []
  },
  {
   "cell_type": "markdown",
   "metadata": {},
   "source": [
    "## create a table"
   ]
  },
  {
   "cell_type": "markdown",
   "metadata": {},
   "source": [
    "## select"
   ]
  },
  {
   "cell_type": "markdown",
   "metadata": {},
   "source": [
    "## insert rows"
   ]
  },
  {
   "cell_type": "markdown",
   "metadata": {},
   "source": [
    "## delete rows"
   ]
  }
 ],
 "metadata": {
  "kernelspec": {
   "display_name": "pydidask",
   "language": "python",
   "name": "python3"
  },
  "language_info": {
   "codemirror_mode": {
    "name": "ipython",
    "version": 3
   },
   "file_extension": ".py",
   "mimetype": "text/x-python",
   "name": "python",
   "nbconvert_exporter": "python",
   "pygments_lexer": "ipython3",
   "version": "3.12.0"
  }
 },
 "nbformat": 4,
 "nbformat_minor": 2
}
