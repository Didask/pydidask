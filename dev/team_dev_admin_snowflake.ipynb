{
 "cells": [
  {
   "cell_type": "markdown",
   "metadata": {},
   "source": [
    "In this notebook I test the ability for users with role \"TEAM_DEV_ADMIN\" in snowflake to manipulate data in the RAW.TEAM_DEV schema. \n",
    "\n",
    "Specifically, they should be able to:\n",
    "- create a new table\n",
    "- insert new rows\n",
    "- perform select operations\n",
    "- delete rows \n",
    "- drop table"
   ]
  },
  {
   "cell_type": "markdown",
   "metadata": {},
   "source": [
    "## environment setup"
   ]
  },
  {
   "cell_type": "code",
   "execution_count": 35,
   "metadata": {},
   "outputs": [],
   "source": [
    "from utils_snowflake import load_config, create_snowflake_engine\n",
    "from sqlalchemy import Table, Column, Integer, Float, String, MetaData, Sequence\n",
    "from sqlalchemy import select, delete, text\n",
    "from sqlalchemy.sql import insert\n",
    "\n",
    "CONFIG = load_config()[\"snowflake\"]\n",
    "account = CONFIG[\"account\"]\n",
    "username = CONFIG[\"team_dev_admin\"][\"username\"]\n",
    "password = CONFIG[\"team_dev_admin\"][\"password\"]\n",
    "warehouse = CONFIG[\"team_dev_admin\"][\"warehouse\"]\n",
    "role = CONFIG[\"team_dev_admin\"][\"role\"]\n",
    "database = \"RAW\"\n",
    "schema = \"TEAM_DEV\"\n",
    "\n",
    "engine = create_snowflake_engine(\n",
    "            database=database, \n",
    "            schema=schema,\n",
    "            user=username,\n",
    "            password=password,\n",
    "            warehouse=warehouse,\n",
    "            role=role)"
   ]
  },
  {
   "cell_type": "markdown",
   "metadata": {},
   "source": [
    "## create a table"
   ]
  },
  {
   "cell_type": "code",
   "execution_count": 36,
   "metadata": {},
   "outputs": [],
   "source": [
    "metadata = MetaData()\n",
    "table_name = 'test_table'\n",
    "\n",
    "# Define a sequence for the auto-incrementing ID\n",
    "id_seq = Sequence('id_seq')\n",
    "\n",
    "table = Table(table_name, metadata,\n",
    "              Column('id', Integer, id_seq, server_default=id_seq.next_value(), primary_key=True),\n",
    "              Column('a', Integer),\n",
    "              Column('b', Float),\n",
    "              Column('c', String)\n",
    "              )\n",
    "\n",
    "# Create the table in Snowflake\n",
    "metadata.create_all(engine)"
   ]
  },
  {
   "cell_type": "markdown",
   "metadata": {},
   "source": [
    "## insert rows"
   ]
  },
  {
   "cell_type": "code",
   "execution_count": 41,
   "metadata": {},
   "outputs": [],
   "source": [
    "# Insert data\n",
    "with engine.connect() as connection:\n",
    "    ins_query = insert(table).values(a=2, b=3.5, c=\"hello\")\n",
    "    connection.execute(ins_query)"
   ]
  },
  {
   "cell_type": "markdown",
   "metadata": {},
   "source": [
    "## select"
   ]
  },
  {
   "cell_type": "code",
   "execution_count": 42,
   "metadata": {},
   "outputs": [
    {
     "name": "stdout",
     "output_type": "stream",
     "text": [
      "(1, 2, 3.5, 'hello')\n",
      "(2, 2, 3.5, 'hello')\n",
      "(3, 2, 3.5, 'hello')\n",
      "(4, 2, 3.5, 'hello')\n",
      "(5, 2, 3.5, 'hello')\n"
     ]
    }
   ],
   "source": [
    "query = text(f\"SELECT * FROM {table_name}\")\n",
    "# Execute the query\n",
    "with engine.connect() as connection:\n",
    "    result = connection.execute(query)\n",
    "    for row in result:\n",
    "        print(row)"
   ]
  },
  {
   "cell_type": "markdown",
   "metadata": {},
   "source": [
    "## delete rows"
   ]
  },
  {
   "cell_type": "code",
   "execution_count": 31,
   "metadata": {},
   "outputs": [],
   "source": [
    "# Define the DELETE query as a textual SQL expression\n",
    "delete_query = text(f\"DELETE FROM {table_name} WHERE id = 2\")\n",
    "\n",
    "# Execute the DELETE query\n",
    "with engine.connect() as connection:\n",
    "    connection.execute(delete_query)"
   ]
  },
  {
   "cell_type": "markdown",
   "metadata": {},
   "source": [
    "## drop table"
   ]
  },
  {
   "cell_type": "code",
   "execution_count": 33,
   "metadata": {},
   "outputs": [],
   "source": [
    "# Drop the table\n",
    "with engine.connect() as connection:\n",
    "    connection.execute(f'DROP TABLE IF EXISTS {table_name}')"
   ]
  }
 ],
 "metadata": {
  "kernelspec": {
   "display_name": "pydidask",
   "language": "python",
   "name": "python3"
  },
  "language_info": {
   "codemirror_mode": {
    "name": "ipython",
    "version": 3
   },
   "file_extension": ".py",
   "mimetype": "text/x-python",
   "name": "python",
   "nbconvert_exporter": "python",
   "pygments_lexer": "ipython3",
   "version": "3.12.0"
  }
 },
 "nbformat": 4,
 "nbformat_minor": 2
}
